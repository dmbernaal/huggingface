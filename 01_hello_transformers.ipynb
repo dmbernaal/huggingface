{
 "cells": [
  {
   "cell_type": "markdown",
   "id": "40d4f70b-0619-455d-9701-20c778c2bd01",
   "metadata": {},
   "source": [
    "# Hello Transformers"
   ]
  },
  {
   "cell_type": "code",
   "execution_count": 1,
   "id": "067bd196-eac7-473f-9cbd-0295754e8ee0",
   "metadata": {
    "execution": {
     "iopub.execute_input": "2022-04-13T17:38:16.576692Z",
     "iopub.status.busy": "2022-04-13T17:38:16.576692Z",
     "iopub.status.idle": "2022-04-13T17:38:16.586665Z",
     "shell.execute_reply": "2022-04-13T17:38:16.586665Z",
     "shell.execute_reply.started": "2022-04-13T17:38:16.576692Z"
    },
    "tags": []
   },
   "outputs": [],
   "source": [
    "text = 'Dear Amazon, last week I ordered an Optimus Prime action figure from your online store in Germany. Unfortunately, when i opened the package, I discovered to my horror that I had been sent an action figure of Megatron instead! As a lifelong enemy of the Decepticons, I hope you can understand my dilemma. To resolve the issue, I demand an exhange of Megatron for the Optimus Prime figure I ordered. Enclosed are copies of my records concerning this purchase. I expect to hear from you soon. Sincerely, Bumblebee.'"
   ]
  },
  {
   "cell_type": "code",
   "execution_count": 3,
   "id": "30066309-8796-47d7-9cce-b11e7830ed09",
   "metadata": {
    "execution": {
     "iopub.execute_input": "2022-04-13T17:38:21.010917Z",
     "iopub.status.busy": "2022-04-13T17:38:21.010917Z",
     "iopub.status.idle": "2022-04-13T17:38:23.495189Z",
     "shell.execute_reply": "2022-04-13T17:38:23.495189Z",
     "shell.execute_reply.started": "2022-04-13T17:38:21.010917Z"
    },
    "tags": []
   },
   "outputs": [],
   "source": [
    "from transformers import pipeline"
   ]
  },
  {
   "cell_type": "code",
   "execution_count": 4,
   "id": "4cc53058-c6a6-40f1-b4a4-e32cc2c0e783",
   "metadata": {
    "execution": {
     "iopub.execute_input": "2022-04-13T17:38:38.586845Z",
     "iopub.status.busy": "2022-04-13T17:38:38.585847Z",
     "iopub.status.idle": "2022-04-13T17:38:41.166050Z",
     "shell.execute_reply": "2022-04-13T17:38:41.166050Z",
     "shell.execute_reply.started": "2022-04-13T17:38:38.586845Z"
    }
   },
   "outputs": [
    {
     "name": "stderr",
     "output_type": "stream",
     "text": [
      "No model was supplied, defaulted to distilbert-base-uncased-finetuned-sst-2-english (https://huggingface.co/distilbert-base-uncased-finetuned-sst-2-english)\n"
     ]
    }
   ],
   "source": [
    "classifier = pipeline('text-classification')"
   ]
  },
  {
   "cell_type": "code",
   "execution_count": 5,
   "id": "b2ea9c5e-2e1c-473d-91a2-ad5526b91fb4",
   "metadata": {
    "execution": {
     "iopub.execute_input": "2022-04-13T17:41:10.159461Z",
     "iopub.status.busy": "2022-04-13T17:41:10.158478Z",
     "iopub.status.idle": "2022-04-13T17:41:10.168437Z",
     "shell.execute_reply": "2022-04-13T17:41:10.168437Z",
     "shell.execute_reply.started": "2022-04-13T17:41:10.159461Z"
    }
   },
   "outputs": [],
   "source": [
    "import pandas as pd"
   ]
  },
  {
   "cell_type": "code",
   "execution_count": 6,
   "id": "e448408f-b6c0-469d-9893-531a03359180",
   "metadata": {
    "execution": {
     "iopub.execute_input": "2022-04-13T17:41:20.187973Z",
     "iopub.status.busy": "2022-04-13T17:41:20.187973Z",
     "iopub.status.idle": "2022-04-13T17:41:20.273251Z",
     "shell.execute_reply": "2022-04-13T17:41:20.273251Z",
     "shell.execute_reply.started": "2022-04-13T17:41:20.187973Z"
    }
   },
   "outputs": [],
   "source": [
    "outputs = classifier(text)"
   ]
  },
  {
   "cell_type": "code",
   "execution_count": 7,
   "id": "8491ee56-6075-495b-8cd9-874d516c1aa6",
   "metadata": {
    "execution": {
     "iopub.execute_input": "2022-04-13T17:41:21.481393Z",
     "iopub.status.busy": "2022-04-13T17:41:21.481393Z",
     "iopub.status.idle": "2022-04-13T17:41:21.496353Z",
     "shell.execute_reply": "2022-04-13T17:41:21.496353Z",
     "shell.execute_reply.started": "2022-04-13T17:41:21.481393Z"
    }
   },
   "outputs": [
    {
     "data": {
      "text/plain": [
       "[{'label': 'NEGATIVE', 'score': 0.9652314186096191}]"
      ]
     },
     "execution_count": 7,
     "metadata": {},
     "output_type": "execute_result"
    }
   ],
   "source": [
    "outputs"
   ]
  },
  {
   "cell_type": "code",
   "execution_count": 8,
   "id": "381d4e57-ac69-4e16-b325-3e464771b856",
   "metadata": {
    "execution": {
     "iopub.execute_input": "2022-04-13T17:41:31.363500Z",
     "iopub.status.busy": "2022-04-13T17:41:31.362503Z",
     "iopub.status.idle": "2022-04-13T17:41:31.385442Z",
     "shell.execute_reply": "2022-04-13T17:41:31.385442Z",
     "shell.execute_reply.started": "2022-04-13T17:41:31.363500Z"
    }
   },
   "outputs": [
    {
     "data": {
      "text/html": [
       "<div>\n",
       "<style scoped>\n",
       "    .dataframe tbody tr th:only-of-type {\n",
       "        vertical-align: middle;\n",
       "    }\n",
       "\n",
       "    .dataframe tbody tr th {\n",
       "        vertical-align: top;\n",
       "    }\n",
       "\n",
       "    .dataframe thead th {\n",
       "        text-align: right;\n",
       "    }\n",
       "</style>\n",
       "<table border=\"1\" class=\"dataframe\">\n",
       "  <thead>\n",
       "    <tr style=\"text-align: right;\">\n",
       "      <th></th>\n",
       "      <th>label</th>\n",
       "      <th>score</th>\n",
       "    </tr>\n",
       "  </thead>\n",
       "  <tbody>\n",
       "    <tr>\n",
       "      <th>0</th>\n",
       "      <td>NEGATIVE</td>\n",
       "      <td>0.965231</td>\n",
       "    </tr>\n",
       "  </tbody>\n",
       "</table>\n",
       "</div>"
      ],
      "text/plain": [
       "      label     score\n",
       "0  NEGATIVE  0.965231"
      ]
     },
     "execution_count": 8,
     "metadata": {},
     "output_type": "execute_result"
    }
   ],
   "source": [
    "pd.DataFrame(outputs)"
   ]
  },
  {
   "cell_type": "markdown",
   "id": "4b26fcac-cc3f-4b65-b9c6-4c1fa5b80e70",
   "metadata": {},
   "source": [
    "### Named Entity Recognition\n",
    "Predicting sentiment of customer feedback is a good first step, but you often want to know if the feedback was about a particular item or service. In NLP, real-world objects like products, places, and people are called named entities, and extracting them from text is called named entity recognition."
   ]
  },
  {
   "cell_type": "code",
   "execution_count": 9,
   "id": "479cd012-1205-450c-8de2-736cc1c1bec9",
   "metadata": {
    "execution": {
     "iopub.execute_input": "2022-04-13T17:45:38.638754Z",
     "iopub.status.busy": "2022-04-13T17:45:38.638754Z",
     "iopub.status.idle": "2022-04-13T17:46:17.743035Z",
     "shell.execute_reply": "2022-04-13T17:46:17.743035Z",
     "shell.execute_reply.started": "2022-04-13T17:45:38.638754Z"
    }
   },
   "outputs": [
    {
     "name": "stderr",
     "output_type": "stream",
     "text": [
      "No model was supplied, defaulted to dbmdz/bert-large-cased-finetuned-conll03-english (https://huggingface.co/dbmdz/bert-large-cased-finetuned-conll03-english)\n"
     ]
    },
    {
     "data": {
      "application/vnd.jupyter.widget-view+json": {
       "model_id": "cb6083df38e1484ba57228d2fca29516",
       "version_major": 2,
       "version_minor": 0
      },
      "text/plain": [
       "Downloading:   0%|          | 0.00/998 [00:00<?, ?B/s]"
      ]
     },
     "metadata": {},
     "output_type": "display_data"
    },
    {
     "data": {
      "application/vnd.jupyter.widget-view+json": {
       "model_id": "6d7a09ac635e46c4b5c619401a268298",
       "version_major": 2,
       "version_minor": 0
      },
      "text/plain": [
       "Downloading:   0%|          | 0.00/1.24G [00:00<?, ?B/s]"
      ]
     },
     "metadata": {},
     "output_type": "display_data"
    },
    {
     "data": {
      "application/vnd.jupyter.widget-view+json": {
       "model_id": "bb3e8afbfc87477b93a9398f0e60bc0a",
       "version_major": 2,
       "version_minor": 0
      },
      "text/plain": [
       "Downloading:   0%|          | 0.00/60.0 [00:00<?, ?B/s]"
      ]
     },
     "metadata": {},
     "output_type": "display_data"
    },
    {
     "data": {
      "application/vnd.jupyter.widget-view+json": {
       "model_id": "861564eb91d14138babf52993e9ea23c",
       "version_major": 2,
       "version_minor": 0
      },
      "text/plain": [
       "Downloading:   0%|          | 0.00/208k [00:00<?, ?B/s]"
      ]
     },
     "metadata": {},
     "output_type": "display_data"
    }
   ],
   "source": [
    "ner_tagger = pipeline('ner', aggregation_strategy='simple')"
   ]
  },
  {
   "cell_type": "code",
   "execution_count": 10,
   "id": "cfcfb511-dd92-4cb6-9baf-5a70ba75f54a",
   "metadata": {
    "execution": {
     "iopub.execute_input": "2022-04-13T17:46:38.876748Z",
     "iopub.status.busy": "2022-04-13T17:46:38.876748Z",
     "iopub.status.idle": "2022-04-13T17:46:39.134930Z",
     "shell.execute_reply": "2022-04-13T17:46:39.134930Z",
     "shell.execute_reply.started": "2022-04-13T17:46:38.876748Z"
    }
   },
   "outputs": [
    {
     "data": {
      "text/plain": [
       "[{'entity_group': 'ORG',\n",
       "  'score': 0.8830337,\n",
       "  'word': 'Amazon',\n",
       "  'start': 5,\n",
       "  'end': 11},\n",
       " {'entity_group': 'MISC',\n",
       "  'score': 0.9920729,\n",
       "  'word': 'Optimus Prime',\n",
       "  'start': 36,\n",
       "  'end': 49},\n",
       " {'entity_group': 'LOC',\n",
       "  'score': 0.99973375,\n",
       "  'word': 'Germany',\n",
       "  'start': 90,\n",
       "  'end': 97},\n",
       " {'entity_group': 'MISC',\n",
       "  'score': 0.55522954,\n",
       "  'word': 'Mega',\n",
       "  'start': 208,\n",
       "  'end': 212},\n",
       " {'entity_group': 'PER',\n",
       "  'score': 0.60159934,\n",
       "  'word': '##tron',\n",
       "  'start': 212,\n",
       "  'end': 216},\n",
       " {'entity_group': 'ORG',\n",
       "  'score': 0.65449035,\n",
       "  'word': 'Decept',\n",
       "  'start': 253,\n",
       "  'end': 259},\n",
       " {'entity_group': 'MISC',\n",
       "  'score': 0.47686562,\n",
       "  'word': '##icons',\n",
       "  'start': 259,\n",
       "  'end': 264},\n",
       " {'entity_group': 'MISC',\n",
       "  'score': 0.6294043,\n",
       "  'word': 'Megatron',\n",
       "  'start': 349,\n",
       "  'end': 357},\n",
       " {'entity_group': 'MISC',\n",
       "  'score': 0.9901869,\n",
       "  'word': 'Optimus Prime',\n",
       "  'start': 366,\n",
       "  'end': 379},\n",
       " {'entity_group': 'PER',\n",
       "  'score': 0.8222454,\n",
       "  'word': 'Bumblebee',\n",
       "  'start': 501,\n",
       "  'end': 510}]"
      ]
     },
     "execution_count": 10,
     "metadata": {},
     "output_type": "execute_result"
    }
   ],
   "source": [
    "ner_tagger(text)"
   ]
  },
  {
   "cell_type": "code",
   "execution_count": 11,
   "id": "f4efbfdd-4f00-4d52-8eb9-971f51f490a7",
   "metadata": {
    "execution": {
     "iopub.execute_input": "2022-04-13T17:47:21.701628Z",
     "iopub.status.busy": "2022-04-13T17:47:21.701628Z",
     "iopub.status.idle": "2022-04-13T17:47:21.940502Z",
     "shell.execute_reply": "2022-04-13T17:47:21.940502Z",
     "shell.execute_reply.started": "2022-04-13T17:47:21.701628Z"
    }
   },
   "outputs": [
    {
     "data": {
      "text/html": [
       "<div>\n",
       "<style scoped>\n",
       "    .dataframe tbody tr th:only-of-type {\n",
       "        vertical-align: middle;\n",
       "    }\n",
       "\n",
       "    .dataframe tbody tr th {\n",
       "        vertical-align: top;\n",
       "    }\n",
       "\n",
       "    .dataframe thead th {\n",
       "        text-align: right;\n",
       "    }\n",
       "</style>\n",
       "<table border=\"1\" class=\"dataframe\">\n",
       "  <thead>\n",
       "    <tr style=\"text-align: right;\">\n",
       "      <th></th>\n",
       "      <th>entity_group</th>\n",
       "      <th>score</th>\n",
       "      <th>word</th>\n",
       "      <th>start</th>\n",
       "      <th>end</th>\n",
       "    </tr>\n",
       "  </thead>\n",
       "  <tbody>\n",
       "    <tr>\n",
       "      <th>0</th>\n",
       "      <td>ORG</td>\n",
       "      <td>0.883034</td>\n",
       "      <td>Amazon</td>\n",
       "      <td>5</td>\n",
       "      <td>11</td>\n",
       "    </tr>\n",
       "    <tr>\n",
       "      <th>1</th>\n",
       "      <td>MISC</td>\n",
       "      <td>0.992073</td>\n",
       "      <td>Optimus Prime</td>\n",
       "      <td>36</td>\n",
       "      <td>49</td>\n",
       "    </tr>\n",
       "    <tr>\n",
       "      <th>2</th>\n",
       "      <td>LOC</td>\n",
       "      <td>0.999734</td>\n",
       "      <td>Germany</td>\n",
       "      <td>90</td>\n",
       "      <td>97</td>\n",
       "    </tr>\n",
       "    <tr>\n",
       "      <th>3</th>\n",
       "      <td>MISC</td>\n",
       "      <td>0.555230</td>\n",
       "      <td>Mega</td>\n",
       "      <td>208</td>\n",
       "      <td>212</td>\n",
       "    </tr>\n",
       "    <tr>\n",
       "      <th>4</th>\n",
       "      <td>PER</td>\n",
       "      <td>0.601599</td>\n",
       "      <td>##tron</td>\n",
       "      <td>212</td>\n",
       "      <td>216</td>\n",
       "    </tr>\n",
       "    <tr>\n",
       "      <th>5</th>\n",
       "      <td>ORG</td>\n",
       "      <td>0.654490</td>\n",
       "      <td>Decept</td>\n",
       "      <td>253</td>\n",
       "      <td>259</td>\n",
       "    </tr>\n",
       "    <tr>\n",
       "      <th>6</th>\n",
       "      <td>MISC</td>\n",
       "      <td>0.476866</td>\n",
       "      <td>##icons</td>\n",
       "      <td>259</td>\n",
       "      <td>264</td>\n",
       "    </tr>\n",
       "    <tr>\n",
       "      <th>7</th>\n",
       "      <td>MISC</td>\n",
       "      <td>0.629404</td>\n",
       "      <td>Megatron</td>\n",
       "      <td>349</td>\n",
       "      <td>357</td>\n",
       "    </tr>\n",
       "    <tr>\n",
       "      <th>8</th>\n",
       "      <td>MISC</td>\n",
       "      <td>0.990187</td>\n",
       "      <td>Optimus Prime</td>\n",
       "      <td>366</td>\n",
       "      <td>379</td>\n",
       "    </tr>\n",
       "    <tr>\n",
       "      <th>9</th>\n",
       "      <td>PER</td>\n",
       "      <td>0.822245</td>\n",
       "      <td>Bumblebee</td>\n",
       "      <td>501</td>\n",
       "      <td>510</td>\n",
       "    </tr>\n",
       "  </tbody>\n",
       "</table>\n",
       "</div>"
      ],
      "text/plain": [
       "  entity_group     score           word  start  end\n",
       "0          ORG  0.883034         Amazon      5   11\n",
       "1         MISC  0.992073  Optimus Prime     36   49\n",
       "2          LOC  0.999734        Germany     90   97\n",
       "3         MISC  0.555230           Mega    208  212\n",
       "4          PER  0.601599         ##tron    212  216\n",
       "5          ORG  0.654490         Decept    253  259\n",
       "6         MISC  0.476866        ##icons    259  264\n",
       "7         MISC  0.629404       Megatron    349  357\n",
       "8         MISC  0.990187  Optimus Prime    366  379\n",
       "9          PER  0.822245      Bumblebee    501  510"
      ]
     },
     "execution_count": 11,
     "metadata": {},
     "output_type": "execute_result"
    }
   ],
   "source": [
    "outputs = ner_tagger(text)\n",
    "pd.DataFrame(outputs)"
   ]
  },
  {
   "cell_type": "markdown",
   "id": "31fd9cc8-a130-4929-aad7-e3d85656754f",
   "metadata": {},
   "source": [
    "### Question Answering\n",
    "In question answering, we provide the model with a passage of text called the context, along with a question whose answer we'd like to extract. The model then returns the span of text corresponding to the answer. Let's see what we get when we ask a specific question about our customer feedback."
   ]
  },
  {
   "cell_type": "code",
   "execution_count": 12,
   "id": "317481b3-dd48-43db-b748-b03c9b365828",
   "metadata": {
    "execution": {
     "iopub.execute_input": "2022-04-13T17:49:52.906632Z",
     "iopub.status.busy": "2022-04-13T17:49:52.906632Z",
     "iopub.status.idle": "2022-04-13T17:49:55.632906Z",
     "shell.execute_reply": "2022-04-13T17:49:55.632906Z",
     "shell.execute_reply.started": "2022-04-13T17:49:52.906632Z"
    }
   },
   "outputs": [
    {
     "name": "stderr",
     "output_type": "stream",
     "text": [
      "No model was supplied, defaulted to distilbert-base-cased-distilled-squad (https://huggingface.co/distilbert-base-cased-distilled-squad)\n"
     ]
    }
   ],
   "source": [
    "reader = pipeline('question-answering')"
   ]
  },
  {
   "cell_type": "code",
   "execution_count": 13,
   "id": "1829509d-f22c-496b-baf7-605a30aebe01",
   "metadata": {
    "execution": {
     "iopub.execute_input": "2022-04-13T17:50:10.715394Z",
     "iopub.status.busy": "2022-04-13T17:50:10.715394Z",
     "iopub.status.idle": "2022-04-13T17:50:10.728359Z",
     "shell.execute_reply": "2022-04-13T17:50:10.728359Z",
     "shell.execute_reply.started": "2022-04-13T17:50:10.715394Z"
    }
   },
   "outputs": [],
   "source": [
    "question = 'What does the customer want?'"
   ]
  },
  {
   "cell_type": "code",
   "execution_count": 14,
   "id": "132900bc-c577-4033-9b88-73cd687e7183",
   "metadata": {
    "execution": {
     "iopub.execute_input": "2022-04-13T17:50:22.855765Z",
     "iopub.status.busy": "2022-04-13T17:50:22.855765Z",
     "iopub.status.idle": "2022-04-13T17:50:22.922585Z",
     "shell.execute_reply": "2022-04-13T17:50:22.922585Z",
     "shell.execute_reply.started": "2022-04-13T17:50:22.855765Z"
    }
   },
   "outputs": [],
   "source": [
    "outputs = reader(question=question, context=text)"
   ]
  },
  {
   "cell_type": "code",
   "execution_count": 15,
   "id": "0ec1d5fe-eb44-4184-b417-937a984899c5",
   "metadata": {
    "execution": {
     "iopub.execute_input": "2022-04-13T17:50:24.324972Z",
     "iopub.status.busy": "2022-04-13T17:50:24.324972Z",
     "iopub.status.idle": "2022-04-13T17:50:24.339932Z",
     "shell.execute_reply": "2022-04-13T17:50:24.339932Z",
     "shell.execute_reply.started": "2022-04-13T17:50:24.324972Z"
    }
   },
   "outputs": [
    {
     "data": {
      "text/plain": [
       "{'score': 0.5188354253768921,\n",
       " 'start': 335,\n",
       " 'end': 357,\n",
       " 'answer': 'an exhange of Megatron'}"
      ]
     },
     "execution_count": 15,
     "metadata": {},
     "output_type": "execute_result"
    }
   ],
   "source": [
    "outputs"
   ]
  },
  {
   "cell_type": "markdown",
   "id": "9cb00c2d-2c0b-4d98-8ecb-cd14fdb5e881",
   "metadata": {},
   "source": [
    "### Summarizationt\n",
    "The goal of text summarization is to take a long text as input and generate a short version with all the relevant facts. This is a much more complicated task than the previous one since it requires the model to generate coherent text. In what should be a familiar pattten by now."
   ]
  },
  {
   "cell_type": "code",
   "execution_count": 16,
   "id": "1a9ea31c-b444-4009-a012-7a5f0fe327eb",
   "metadata": {
    "execution": {
     "iopub.execute_input": "2022-04-13T18:02:02.712985Z",
     "iopub.status.busy": "2022-04-13T18:02:02.712985Z",
     "iopub.status.idle": "2022-04-13T18:02:39.868296Z",
     "shell.execute_reply": "2022-04-13T18:02:39.868296Z",
     "shell.execute_reply.started": "2022-04-13T18:02:02.712985Z"
    }
   },
   "outputs": [
    {
     "name": "stderr",
     "output_type": "stream",
     "text": [
      "No model was supplied, defaulted to sshleifer/distilbart-cnn-12-6 (https://huggingface.co/sshleifer/distilbart-cnn-12-6)\n"
     ]
    },
    {
     "data": {
      "application/vnd.jupyter.widget-view+json": {
       "model_id": "57814493d9f5462ba90ca4368fa53a32",
       "version_major": 2,
       "version_minor": 0
      },
      "text/plain": [
       "Downloading:   0%|          | 0.00/1.76k [00:00<?, ?B/s]"
      ]
     },
     "metadata": {},
     "output_type": "display_data"
    },
    {
     "data": {
      "application/vnd.jupyter.widget-view+json": {
       "model_id": "4a6a405aa0c24e0889bd9b485ee09474",
       "version_major": 2,
       "version_minor": 0
      },
      "text/plain": [
       "Downloading:   0%|          | 0.00/1.14G [00:00<?, ?B/s]"
      ]
     },
     "metadata": {},
     "output_type": "display_data"
    },
    {
     "data": {
      "application/vnd.jupyter.widget-view+json": {
       "model_id": "6ddbef52bc244f31b810e94fdb91662d",
       "version_major": 2,
       "version_minor": 0
      },
      "text/plain": [
       "Downloading:   0%|          | 0.00/26.0 [00:00<?, ?B/s]"
      ]
     },
     "metadata": {},
     "output_type": "display_data"
    },
    {
     "data": {
      "application/vnd.jupyter.widget-view+json": {
       "model_id": "1b031470a4b341e0997473fc6cf91f7b",
       "version_major": 2,
       "version_minor": 0
      },
      "text/plain": [
       "Downloading:   0%|          | 0.00/878k [00:00<?, ?B/s]"
      ]
     },
     "metadata": {},
     "output_type": "display_data"
    },
    {
     "data": {
      "application/vnd.jupyter.widget-view+json": {
       "model_id": "8ed5904432254b3abc280cfd0f83bde2",
       "version_major": 2,
       "version_minor": 0
      },
      "text/plain": [
       "Downloading:   0%|          | 0.00/446k [00:00<?, ?B/s]"
      ]
     },
     "metadata": {},
     "output_type": "display_data"
    }
   ],
   "source": [
    "summarizer = pipeline('summarization')"
   ]
  },
  {
   "cell_type": "code",
   "execution_count": 17,
   "id": "d669ae05-1966-4bdb-bd15-9a4f39b52dbd",
   "metadata": {
    "execution": {
     "iopub.execute_input": "2022-04-13T18:03:09.175179Z",
     "iopub.status.busy": "2022-04-13T18:03:09.175179Z",
     "iopub.status.idle": "2022-04-13T18:03:11.232675Z",
     "shell.execute_reply": "2022-04-13T18:03:11.232675Z",
     "shell.execute_reply.started": "2022-04-13T18:03:09.175179Z"
    }
   },
   "outputs": [
    {
     "name": "stderr",
     "output_type": "stream",
     "text": [
      "Your min_length=56 must be inferior than your max_length=45.\n"
     ]
    }
   ],
   "source": [
    "outputs = summarizer(text, max_length=45, clean_up_tokenization_spaces=True)"
   ]
  },
  {
   "cell_type": "code",
   "execution_count": 18,
   "id": "ea28ea1c-29aa-4a88-ad8f-53f7eaecca60",
   "metadata": {
    "execution": {
     "iopub.execute_input": "2022-04-13T18:03:19.174237Z",
     "iopub.status.busy": "2022-04-13T18:03:19.174237Z",
     "iopub.status.idle": "2022-04-13T18:03:19.183215Z",
     "shell.execute_reply": "2022-04-13T18:03:19.183215Z",
     "shell.execute_reply.started": "2022-04-13T18:03:19.174237Z"
    }
   },
   "outputs": [
    {
     "data": {
      "text/plain": [
       "[{'summary_text': ' Bumblebee ordered an Optimus Prime action figure from your online store in Germany. Unfortunately, when i opened the package, I discovered to my horror that I had been sent an action figure of Megatron instead.'}]"
      ]
     },
     "execution_count": 18,
     "metadata": {},
     "output_type": "execute_result"
    }
   ],
   "source": [
    "outputs"
   ]
  },
  {
   "cell_type": "code",
   "execution_count": 19,
   "id": "1dfeb30a-d3c4-44aa-8113-dbf3b8068b96",
   "metadata": {
    "execution": {
     "iopub.execute_input": "2022-04-13T18:03:38.148481Z",
     "iopub.status.busy": "2022-04-13T18:03:38.148481Z",
     "iopub.status.idle": "2022-04-13T18:03:38.165435Z",
     "shell.execute_reply": "2022-04-13T18:03:38.165435Z",
     "shell.execute_reply.started": "2022-04-13T18:03:38.148481Z"
    }
   },
   "outputs": [
    {
     "data": {
      "text/plain": [
       "' Bumblebee ordered an Optimus Prime action figure from your online store in Germany. Unfortunately, when i opened the package, I discovered to my horror that I had been sent an action figure of Megatron instead.'"
      ]
     },
     "execution_count": 19,
     "metadata": {},
     "output_type": "execute_result"
    }
   ],
   "source": [
    "outputs[0]['summary_text']"
   ]
  },
  {
   "cell_type": "markdown",
   "id": "1e63f1b9-f910-4f29-9625-77e0aaee37da",
   "metadata": {},
   "source": [
    "### Text Generation\n",
    "Let's say you would like to be able to provide faster replies to customer feed-back by having access to an autocomplete function. With text generation model you can do this."
   ]
  },
  {
   "cell_type": "code",
   "execution_count": 20,
   "id": "858fa1a5-3470-42a8-9d82-b16889e52dfd",
   "metadata": {
    "execution": {
     "iopub.execute_input": "2022-04-13T18:05:48.125693Z",
     "iopub.status.busy": "2022-04-13T18:05:48.125693Z",
     "iopub.status.idle": "2022-04-13T18:05:51.195830Z",
     "shell.execute_reply": "2022-04-13T18:05:51.195830Z",
     "shell.execute_reply.started": "2022-04-13T18:05:48.125693Z"
    }
   },
   "outputs": [
    {
     "name": "stderr",
     "output_type": "stream",
     "text": [
      "No model was supplied, defaulted to gpt2 (https://huggingface.co/gpt2)\n"
     ]
    }
   ],
   "source": [
    "generator = pipeline('text-generation')"
   ]
  },
  {
   "cell_type": "code",
   "execution_count": 24,
   "id": "1aee4804-6e91-414a-986f-9802f2388787",
   "metadata": {
    "execution": {
     "iopub.execute_input": "2022-04-13T18:09:23.821510Z",
     "iopub.status.busy": "2022-04-13T18:09:23.821510Z",
     "iopub.status.idle": "2022-04-13T18:09:25.869339Z",
     "shell.execute_reply": "2022-04-13T18:09:25.869339Z",
     "shell.execute_reply.started": "2022-04-13T18:09:23.821510Z"
    },
    "tags": []
   },
   "outputs": [
    {
     "name": "stderr",
     "output_type": "stream",
     "text": [
      "Setting `pad_token_id` to `eos_token_id`:50256 for open-end generation.\n"
     ]
    }
   ],
   "source": [
    "response = \"Dear Bumblebee, I am sorry to hear that your order was mixed up.\"\n",
    "prompt = text + '\\n\\nCustomer service response:\\n' + response\n",
    "outputs = generator(prompt, max_length=200)"
   ]
  },
  {
   "cell_type": "code",
   "execution_count": 25,
   "id": "0f0d57de-1878-439b-8b71-39171c975d43",
   "metadata": {
    "execution": {
     "iopub.execute_input": "2022-04-13T18:09:25.870336Z",
     "iopub.status.busy": "2022-04-13T18:09:25.870336Z",
     "iopub.status.idle": "2022-04-13T18:09:25.885301Z",
     "shell.execute_reply": "2022-04-13T18:09:25.885301Z",
     "shell.execute_reply.started": "2022-04-13T18:09:25.870336Z"
    },
    "tags": []
   },
   "outputs": [
    {
     "name": "stdout",
     "output_type": "stream",
     "text": [
      "Dear Amazon, last week I ordered an Optimus Prime action figure from your online store in Germany. Unfortunately, when i opened the package, I discovered to my horror that I had been sent an action figure of Megatron instead! As a lifelong enemy of the Decepticons, I hope you can understand my dilemma. To resolve the issue, I demand an exhange of Megatron for the Optimus Prime figure I ordered. Enclosed are copies of my records concerning this purchase. I expect to hear from you soon. Sincerely, Bumblebee.\n",
      "\n",
      "Customer service response:\n",
      "Dear Bumblebee, I am sorry to hear that your order was mixed up. However, your answer and I's responses gave me the best idea I could possibly give you. However, my order was completed by my wife who was not aware that there would be an issue with the shipping. Your instructions were well within the scope of your letter. When we arrived at your location on Monday we spoke with the department\n"
     ]
    }
   ],
   "source": [
    "print(outputs[0]['generated_text'])"
   ]
  },
  {
   "cell_type": "code",
   "execution_count": null,
   "id": "3d17e5f9-ee33-4973-8040-649dc042f985",
   "metadata": {},
   "outputs": [],
   "source": []
  },
  {
   "cell_type": "code",
   "execution_count": null,
   "id": "75b9ec3d-a2fa-4f74-a0f6-5c88c792b8c8",
   "metadata": {},
   "outputs": [],
   "source": []
  },
  {
   "cell_type": "code",
   "execution_count": null,
   "id": "11ca207d-0238-44b9-b91e-1bc855f1049a",
   "metadata": {},
   "outputs": [],
   "source": []
  },
  {
   "cell_type": "code",
   "execution_count": null,
   "id": "20b968d7-8d4a-4b3f-a300-3a20662cee42",
   "metadata": {},
   "outputs": [],
   "source": []
  },
  {
   "cell_type": "code",
   "execution_count": null,
   "id": "63fe16c3-6c3f-4a91-8cf6-eb9885d80c04",
   "metadata": {},
   "outputs": [],
   "source": []
  },
  {
   "cell_type": "code",
   "execution_count": null,
   "id": "040e5f3d-b4a6-4c2a-9fb4-25574f5cfb4d",
   "metadata": {},
   "outputs": [],
   "source": []
  },
  {
   "cell_type": "code",
   "execution_count": null,
   "id": "82bccf7a-13b6-4864-94d3-c21e026023a8",
   "metadata": {},
   "outputs": [],
   "source": []
  },
  {
   "cell_type": "code",
   "execution_count": null,
   "id": "d0aa9e93-0d5c-489a-a5ec-771ed938a920",
   "metadata": {},
   "outputs": [],
   "source": []
  },
  {
   "cell_type": "code",
   "execution_count": null,
   "id": "cb5bb5cc-6880-477e-9d57-85e1948d4ab3",
   "metadata": {},
   "outputs": [],
   "source": []
  },
  {
   "cell_type": "code",
   "execution_count": null,
   "id": "4d6d192f-763f-4878-a59f-c855b66a10c8",
   "metadata": {},
   "outputs": [],
   "source": []
  },
  {
   "cell_type": "code",
   "execution_count": null,
   "id": "cb0b831c-5910-4230-9a6d-3fd15427700b",
   "metadata": {},
   "outputs": [],
   "source": []
  },
  {
   "cell_type": "code",
   "execution_count": null,
   "id": "b3267c12-bbff-4cae-8c6e-e929213a7bca",
   "metadata": {},
   "outputs": [],
   "source": []
  },
  {
   "cell_type": "code",
   "execution_count": null,
   "id": "c27ef35e-7174-4cd1-9724-84b71aa037cf",
   "metadata": {},
   "outputs": [],
   "source": []
  },
  {
   "cell_type": "code",
   "execution_count": null,
   "id": "3ec92365-7ecc-4214-8a95-cc269a428384",
   "metadata": {},
   "outputs": [],
   "source": []
  },
  {
   "cell_type": "code",
   "execution_count": null,
   "id": "602c9be6-de67-4fa3-acbb-8f221a5505ec",
   "metadata": {},
   "outputs": [],
   "source": []
  },
  {
   "cell_type": "code",
   "execution_count": null,
   "id": "2d881268-e1bc-45c0-ba20-1effa0857fd0",
   "metadata": {},
   "outputs": [],
   "source": []
  },
  {
   "cell_type": "code",
   "execution_count": null,
   "id": "cd9fb8e5-1430-4396-89c7-71e59b17296d",
   "metadata": {},
   "outputs": [],
   "source": []
  },
  {
   "cell_type": "code",
   "execution_count": null,
   "id": "6ce4f759-378d-4f7d-a667-025c053c6aea",
   "metadata": {},
   "outputs": [],
   "source": []
  },
  {
   "cell_type": "code",
   "execution_count": null,
   "id": "1493a2f7-743e-45d0-af17-7aa107700272",
   "metadata": {},
   "outputs": [],
   "source": []
  },
  {
   "cell_type": "code",
   "execution_count": null,
   "id": "8505ebf0-4fda-48f5-b8c8-15ca67da6d7b",
   "metadata": {},
   "outputs": [],
   "source": []
  },
  {
   "cell_type": "code",
   "execution_count": null,
   "id": "b219437f-c3bc-436f-98f4-a814c9c936cf",
   "metadata": {},
   "outputs": [],
   "source": []
  },
  {
   "cell_type": "code",
   "execution_count": null,
   "id": "f1eeda04-acc3-4da4-a75a-e1d17996b8ff",
   "metadata": {},
   "outputs": [],
   "source": []
  },
  {
   "cell_type": "code",
   "execution_count": null,
   "id": "5efc26ef-3b15-4242-bb25-e2d0791338b2",
   "metadata": {},
   "outputs": [],
   "source": []
  },
  {
   "cell_type": "code",
   "execution_count": null,
   "id": "0da4d420-9b95-4bf1-b8c2-4f651e7f216f",
   "metadata": {},
   "outputs": [],
   "source": []
  },
  {
   "cell_type": "code",
   "execution_count": null,
   "id": "ee591737-a75c-41e6-a584-404186bfa4f3",
   "metadata": {},
   "outputs": [],
   "source": []
  },
  {
   "cell_type": "code",
   "execution_count": null,
   "id": "db4fcbae-bc86-45e4-bd07-9e011cd8959e",
   "metadata": {},
   "outputs": [],
   "source": []
  },
  {
   "cell_type": "code",
   "execution_count": null,
   "id": "fff8931d-6064-419a-b208-c4d66c47a9e2",
   "metadata": {},
   "outputs": [],
   "source": []
  },
  {
   "cell_type": "code",
   "execution_count": null,
   "id": "49ecab16-d4e2-4d28-875c-1950a4fe2d18",
   "metadata": {},
   "outputs": [],
   "source": []
  },
  {
   "cell_type": "code",
   "execution_count": null,
   "id": "24a646f0-90c5-45e9-99ae-ea3cd1502bdc",
   "metadata": {},
   "outputs": [],
   "source": []
  }
 ],
 "metadata": {
  "kernelspec": {
   "display_name": "Python 3 (ipykernel)",
   "language": "python",
   "name": "python3"
  },
  "language_info": {
   "codemirror_mode": {
    "name": "ipython",
    "version": 3
   },
   "file_extension": ".py",
   "mimetype": "text/x-python",
   "name": "python",
   "nbconvert_exporter": "python",
   "pygments_lexer": "ipython3",
   "version": "3.9.7"
  }
 },
 "nbformat": 4,
 "nbformat_minor": 5
}
