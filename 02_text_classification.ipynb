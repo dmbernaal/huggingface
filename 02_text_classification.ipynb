{
 "cells": [
  {
   "cell_type": "markdown",
   "id": "4c9ced30-cb3b-4f74-b228-b538dc3222ae",
   "metadata": {},
   "source": [
    "# Text Classification"
   ]
  },
  {
   "cell_type": "code",
   "execution_count": 5,
   "id": "55e0de44-c9e5-4a2a-b092-815de0f8bd13",
   "metadata": {
    "execution": {
     "iopub.execute_input": "2022-04-14T20:02:36.284217Z",
     "iopub.status.busy": "2022-04-14T20:02:36.284217Z",
     "iopub.status.idle": "2022-04-14T20:02:36.289204Z",
     "shell.execute_reply": "2022-04-14T20:02:36.289204Z",
     "shell.execute_reply.started": "2022-04-14T20:02:36.284217Z"
    },
    "tags": []
   },
   "outputs": [],
   "source": [
    "from datasets import list_datasets\n",
    "from datasets import load_dataset"
   ]
  },
  {
   "cell_type": "code",
   "execution_count": 2,
   "id": "5b824ace-f7ad-4eac-bbf4-16f880dafb67",
   "metadata": {
    "execution": {
     "iopub.execute_input": "2022-04-14T20:02:08.375826Z",
     "iopub.status.busy": "2022-04-14T20:02:08.374829Z",
     "iopub.status.idle": "2022-04-14T20:02:08.931768Z",
     "shell.execute_reply": "2022-04-14T20:02:08.931768Z",
     "shell.execute_reply.started": "2022-04-14T20:02:08.375826Z"
    }
   },
   "outputs": [],
   "source": [
    "all_datasets = list_datasets()"
   ]
  },
  {
   "cell_type": "code",
   "execution_count": 3,
   "id": "2bcc7137-9906-4560-90eb-f557f4167f8a",
   "metadata": {
    "execution": {
     "iopub.execute_input": "2022-04-14T20:02:15.857756Z",
     "iopub.status.busy": "2022-04-14T20:02:15.857756Z",
     "iopub.status.idle": "2022-04-14T20:02:15.866732Z",
     "shell.execute_reply": "2022-04-14T20:02:15.866732Z",
     "shell.execute_reply.started": "2022-04-14T20:02:15.857756Z"
    }
   },
   "outputs": [
    {
     "data": {
      "text/plain": [
       "4150"
      ]
     },
     "execution_count": 3,
     "metadata": {},
     "output_type": "execute_result"
    }
   ],
   "source": [
    "len(all_datasets)"
   ]
  },
  {
   "cell_type": "code",
   "execution_count": 4,
   "id": "c2571878-97df-4a3a-b695-6f4a987a91e6",
   "metadata": {
    "execution": {
     "iopub.execute_input": "2022-04-14T20:02:22.719158Z",
     "iopub.status.busy": "2022-04-14T20:02:22.719158Z",
     "iopub.status.idle": "2022-04-14T20:02:22.728117Z",
     "shell.execute_reply": "2022-04-14T20:02:22.728117Z",
     "shell.execute_reply.started": "2022-04-14T20:02:22.719158Z"
    }
   },
   "outputs": [
    {
     "data": {
      "text/plain": [
       "['acronym_identification',\n",
       " 'ade_corpus_v2',\n",
       " 'adversarial_qa',\n",
       " 'aeslc',\n",
       " 'afrikaans_ner_corpus',\n",
       " 'ag_news',\n",
       " 'ai2_arc',\n",
       " 'air_dialogue',\n",
       " 'ajgt_twitter_ar',\n",
       " 'allegro_reviews']"
      ]
     },
     "execution_count": 4,
     "metadata": {},
     "output_type": "execute_result"
    }
   ],
   "source": [
    "all_datasets[:10]"
   ]
  },
  {
   "cell_type": "code",
   "execution_count": 6,
   "id": "5874e957-2a84-4dc6-97cf-3774c2074c88",
   "metadata": {
    "execution": {
     "iopub.execute_input": "2022-04-14T20:02:52.582790Z",
     "iopub.status.busy": "2022-04-14T20:02:52.582790Z",
     "iopub.status.idle": "2022-04-14T20:02:59.322404Z",
     "shell.execute_reply": "2022-04-14T20:02:59.322404Z",
     "shell.execute_reply.started": "2022-04-14T20:02:52.582790Z"
    }
   },
   "outputs": [
    {
     "data": {
      "application/vnd.jupyter.widget-view+json": {
       "model_id": "3970aefe831048da95b2e25ef9459da9",
       "version_major": 2,
       "version_minor": 0
      },
      "text/plain": [
       "Downloading builder script:   0%|          | 0.00/1.66k [00:00<?, ?B/s]"
      ]
     },
     "metadata": {},
     "output_type": "display_data"
    },
    {
     "data": {
      "application/vnd.jupyter.widget-view+json": {
       "model_id": "30a8af9a78d84ff88d86b7d54e142941",
       "version_major": 2,
       "version_minor": 0
      },
      "text/plain": [
       "Downloading metadata:   0%|          | 0.00/1.61k [00:00<?, ?B/s]"
      ]
     },
     "metadata": {},
     "output_type": "display_data"
    },
    {
     "name": "stderr",
     "output_type": "stream",
     "text": [
      "Using custom data configuration default\n"
     ]
    },
    {
     "name": "stdout",
     "output_type": "stream",
     "text": [
      "Downloading and preparing dataset emotion/default (download: 1.97 MiB, generated: 2.07 MiB, post-processed: Unknown size, total: 4.05 MiB) to C:\\Users\\dmber\\.cache\\huggingface\\datasets\\emotion\\default\\0.0.0\\348f63ca8e27b3713b6c04d723efe6d824a56fb3d1449794716c0f0296072705...\n"
     ]
    },
    {
     "data": {
      "application/vnd.jupyter.widget-view+json": {
       "model_id": "b3fa40935f054de4b7df2c9f48adb45a",
       "version_major": 2,
       "version_minor": 0
      },
      "text/plain": [
       "Downloading data:   0%|          | 0.00/1.66M [00:00<?, ?B/s]"
      ]
     },
     "metadata": {},
     "output_type": "display_data"
    },
    {
     "data": {
      "application/vnd.jupyter.widget-view+json": {
       "model_id": "e0b9766604b744b4a63b17ce03cdc2c1",
       "version_major": 2,
       "version_minor": 0
      },
      "text/plain": [
       "Downloading data:   0%|          | 0.00/204k [00:00<?, ?B/s]"
      ]
     },
     "metadata": {},
     "output_type": "display_data"
    },
    {
     "data": {
      "application/vnd.jupyter.widget-view+json": {
       "model_id": "fe6b8ca4b6504022896bc36956facd78",
       "version_major": 2,
       "version_minor": 0
      },
      "text/plain": [
       "Downloading data:   0%|          | 0.00/207k [00:00<?, ?B/s]"
      ]
     },
     "metadata": {},
     "output_type": "display_data"
    },
    {
     "data": {
      "application/vnd.jupyter.widget-view+json": {
       "model_id": "",
       "version_major": 2,
       "version_minor": 0
      },
      "text/plain": [
       "Generating train split:   0%|          | 0/16000 [00:00<?, ? examples/s]"
      ]
     },
     "metadata": {},
     "output_type": "display_data"
    },
    {
     "data": {
      "application/vnd.jupyter.widget-view+json": {
       "model_id": "",
       "version_major": 2,
       "version_minor": 0
      },
      "text/plain": [
       "Generating validation split:   0%|          | 0/2000 [00:00<?, ? examples/s]"
      ]
     },
     "metadata": {},
     "output_type": "display_data"
    },
    {
     "data": {
      "application/vnd.jupyter.widget-view+json": {
       "model_id": "",
       "version_major": 2,
       "version_minor": 0
      },
      "text/plain": [
       "Generating test split:   0%|          | 0/2000 [00:00<?, ? examples/s]"
      ]
     },
     "metadata": {},
     "output_type": "display_data"
    },
    {
     "name": "stdout",
     "output_type": "stream",
     "text": [
      "Dataset emotion downloaded and prepared to C:\\Users\\dmber\\.cache\\huggingface\\datasets\\emotion\\default\\0.0.0\\348f63ca8e27b3713b6c04d723efe6d824a56fb3d1449794716c0f0296072705. Subsequent calls will reuse this data.\n"
     ]
    },
    {
     "data": {
      "application/vnd.jupyter.widget-view+json": {
       "model_id": "91b064625e11481486abff35a757d8fa",
       "version_major": 2,
       "version_minor": 0
      },
      "text/plain": [
       "  0%|          | 0/3 [00:00<?, ?it/s]"
      ]
     },
     "metadata": {},
     "output_type": "display_data"
    }
   ],
   "source": [
    "# loading emotions dataset\n",
    "emotions = load_dataset('emotion')"
   ]
  },
  {
   "cell_type": "code",
   "execution_count": 7,
   "id": "9fbeec0c-7363-4545-a140-9ebab2bed0f4",
   "metadata": {
    "execution": {
     "iopub.execute_input": "2022-04-14T20:03:01.422265Z",
     "iopub.status.busy": "2022-04-14T20:03:01.422265Z",
     "iopub.status.idle": "2022-04-14T20:03:01.430244Z",
     "shell.execute_reply": "2022-04-14T20:03:01.430244Z",
     "shell.execute_reply.started": "2022-04-14T20:03:01.422265Z"
    }
   },
   "outputs": [
    {
     "data": {
      "text/plain": [
       "DatasetDict({\n",
       "    train: Dataset({\n",
       "        features: ['text', 'label'],\n",
       "        num_rows: 16000\n",
       "    })\n",
       "    validation: Dataset({\n",
       "        features: ['text', 'label'],\n",
       "        num_rows: 2000\n",
       "    })\n",
       "    test: Dataset({\n",
       "        features: ['text', 'label'],\n",
       "        num_rows: 2000\n",
       "    })\n",
       "})"
      ]
     },
     "execution_count": 7,
     "metadata": {},
     "output_type": "execute_result"
    }
   ],
   "source": [
    "emotions"
   ]
  },
  {
   "cell_type": "code",
   "execution_count": 8,
   "id": "c02b678b-4c2f-461f-a540-cbc56ebf80af",
   "metadata": {
    "execution": {
     "iopub.execute_input": "2022-04-14T20:03:44.889485Z",
     "iopub.status.busy": "2022-04-14T20:03:44.889485Z",
     "iopub.status.idle": "2022-04-14T20:03:44.898459Z",
     "shell.execute_reply": "2022-04-14T20:03:44.898459Z",
     "shell.execute_reply.started": "2022-04-14T20:03:44.889485Z"
    }
   },
   "outputs": [],
   "source": [
    "train_ds = emotions['train']"
   ]
  },
  {
   "cell_type": "code",
   "execution_count": 9,
   "id": "a82c0e8d-5594-4c18-a6b3-59658fabc389",
   "metadata": {
    "execution": {
     "iopub.execute_input": "2022-04-14T20:03:46.868433Z",
     "iopub.status.busy": "2022-04-14T20:03:46.868433Z",
     "iopub.status.idle": "2022-04-14T20:03:46.884390Z",
     "shell.execute_reply": "2022-04-14T20:03:46.884390Z",
     "shell.execute_reply.started": "2022-04-14T20:03:46.868433Z"
    }
   },
   "outputs": [
    {
     "data": {
      "text/plain": [
       "Dataset({\n",
       "    features: ['text', 'label'],\n",
       "    num_rows: 16000\n",
       "})"
      ]
     },
     "execution_count": 9,
     "metadata": {},
     "output_type": "execute_result"
    }
   ],
   "source": [
    "train_ds"
   ]
  },
  {
   "cell_type": "code",
   "execution_count": 10,
   "id": "5732d083-49c4-4579-9cfb-0faa08851bc7",
   "metadata": {
    "execution": {
     "iopub.execute_input": "2022-04-14T20:04:01.353271Z",
     "iopub.status.busy": "2022-04-14T20:04:01.353271Z",
     "iopub.status.idle": "2022-04-14T20:04:01.370256Z",
     "shell.execute_reply": "2022-04-14T20:04:01.370256Z",
     "shell.execute_reply.started": "2022-04-14T20:04:01.353271Z"
    }
   },
   "outputs": [
    {
     "data": {
      "text/plain": [
       "{'text': 'i didnt feel humiliated', 'label': 0}"
      ]
     },
     "execution_count": 10,
     "metadata": {},
     "output_type": "execute_result"
    }
   ],
   "source": [
    "train_ds[0]"
   ]
  },
  {
   "cell_type": "code",
   "execution_count": 12,
   "id": "f5f3ed38-7847-44b4-a387-34bbe191e6c4",
   "metadata": {
    "execution": {
     "iopub.execute_input": "2022-04-14T20:05:58.078460Z",
     "iopub.status.busy": "2022-04-14T20:05:58.078460Z",
     "iopub.status.idle": "2022-04-14T20:05:58.085440Z",
     "shell.execute_reply": "2022-04-14T20:05:58.085440Z",
     "shell.execute_reply.started": "2022-04-14T20:05:58.078460Z"
    }
   },
   "outputs": [
    {
     "data": {
      "text/plain": [
       "{'text': Value(dtype='string', id=None),\n",
       " 'label': ClassLabel(num_classes=6, names=['sadness', 'joy', 'love', 'anger', 'fear', 'surprise'], id=None)}"
      ]
     },
     "execution_count": 12,
     "metadata": {},
     "output_type": "execute_result"
    }
   ],
   "source": [
    "train_ds.features"
   ]
  },
  {
   "cell_type": "code",
   "execution_count": 13,
   "id": "54f60d1a-62eb-45b0-864d-bf5401f7229d",
   "metadata": {
    "execution": {
     "iopub.execute_input": "2022-04-14T20:06:25.888407Z",
     "iopub.status.busy": "2022-04-14T20:06:25.888407Z",
     "iopub.status.idle": "2022-04-14T20:06:25.901372Z",
     "shell.execute_reply": "2022-04-14T20:06:25.901372Z",
     "shell.execute_reply.started": "2022-04-14T20:06:25.888407Z"
    }
   },
   "outputs": [
    {
     "data": {
      "text/plain": [
       "{'text': ['i didnt feel humiliated',\n",
       "  'i can go from feeling so hopeless to so damned hopeful just from being around someone who cares and is awake',\n",
       "  'im grabbing a minute to post i feel greedy wrong',\n",
       "  'i am ever feeling nostalgic about the fireplace i will know that it is still on the property',\n",
       "  'i am feeling grouchy'],\n",
       " 'label': [0, 0, 3, 2, 3]}"
      ]
     },
     "execution_count": 13,
     "metadata": {},
     "output_type": "execute_result"
    }
   ],
   "source": [
    "train_ds[:5]"
   ]
  },
  {
   "cell_type": "code",
   "execution_count": 14,
   "id": "b020897a-a9e2-49b4-b29a-f3839f666c32",
   "metadata": {
    "execution": {
     "iopub.execute_input": "2022-04-14T20:10:22.403105Z",
     "iopub.status.busy": "2022-04-14T20:10:22.402107Z",
     "iopub.status.idle": "2022-04-14T20:10:22.412081Z",
     "shell.execute_reply": "2022-04-14T20:10:22.412081Z",
     "shell.execute_reply.started": "2022-04-14T20:10:22.402107Z"
    }
   },
   "outputs": [],
   "source": [
    "import pandas as pd"
   ]
  },
  {
   "cell_type": "code",
   "execution_count": 15,
   "id": "b3b005ac-5eec-4609-abb9-488aeec3f2fb",
   "metadata": {
    "execution": {
     "iopub.execute_input": "2022-04-14T20:10:39.134414Z",
     "iopub.status.busy": "2022-04-14T20:10:39.134414Z",
     "iopub.status.idle": "2022-04-14T20:10:39.149374Z",
     "shell.execute_reply": "2022-04-14T20:10:39.149374Z",
     "shell.execute_reply.started": "2022-04-14T20:10:39.134414Z"
    }
   },
   "outputs": [],
   "source": [
    "emotions.set_format(type='pandas')"
   ]
  },
  {
   "cell_type": "code",
   "execution_count": 16,
   "id": "aa065511-8b25-45cf-83ae-b2caab55969a",
   "metadata": {
    "execution": {
     "iopub.execute_input": "2022-04-14T20:10:48.080507Z",
     "iopub.status.busy": "2022-04-14T20:10:48.080507Z",
     "iopub.status.idle": "2022-04-14T20:10:48.101452Z",
     "shell.execute_reply": "2022-04-14T20:10:48.101452Z",
     "shell.execute_reply.started": "2022-04-14T20:10:48.080507Z"
    }
   },
   "outputs": [],
   "source": [
    "df = emotions['train'][:]"
   ]
  },
  {
   "cell_type": "code",
   "execution_count": 17,
   "id": "66bb6cca-fc1e-4afa-8535-153bd789d99d",
   "metadata": {
    "execution": {
     "iopub.execute_input": "2022-04-14T20:10:49.874461Z",
     "iopub.status.busy": "2022-04-14T20:10:49.874461Z",
     "iopub.status.idle": "2022-04-14T20:10:49.883401Z",
     "shell.execute_reply": "2022-04-14T20:10:49.883401Z",
     "shell.execute_reply.started": "2022-04-14T20:10:49.874461Z"
    }
   },
   "outputs": [
    {
     "data": {
      "text/html": [
       "<div>\n",
       "<style scoped>\n",
       "    .dataframe tbody tr th:only-of-type {\n",
       "        vertical-align: middle;\n",
       "    }\n",
       "\n",
       "    .dataframe tbody tr th {\n",
       "        vertical-align: top;\n",
       "    }\n",
       "\n",
       "    .dataframe thead th {\n",
       "        text-align: right;\n",
       "    }\n",
       "</style>\n",
       "<table border=\"1\" class=\"dataframe\">\n",
       "  <thead>\n",
       "    <tr style=\"text-align: right;\">\n",
       "      <th></th>\n",
       "      <th>text</th>\n",
       "      <th>label</th>\n",
       "    </tr>\n",
       "  </thead>\n",
       "  <tbody>\n",
       "    <tr>\n",
       "      <th>0</th>\n",
       "      <td>i didnt feel humiliated</td>\n",
       "      <td>0</td>\n",
       "    </tr>\n",
       "    <tr>\n",
       "      <th>1</th>\n",
       "      <td>i can go from feeling so hopeless to so damned...</td>\n",
       "      <td>0</td>\n",
       "    </tr>\n",
       "    <tr>\n",
       "      <th>2</th>\n",
       "      <td>im grabbing a minute to post i feel greedy wrong</td>\n",
       "      <td>3</td>\n",
       "    </tr>\n",
       "    <tr>\n",
       "      <th>3</th>\n",
       "      <td>i am ever feeling nostalgic about the fireplac...</td>\n",
       "      <td>2</td>\n",
       "    </tr>\n",
       "    <tr>\n",
       "      <th>4</th>\n",
       "      <td>i am feeling grouchy</td>\n",
       "      <td>3</td>\n",
       "    </tr>\n",
       "  </tbody>\n",
       "</table>\n",
       "</div>"
      ],
      "text/plain": [
       "                                                text  label\n",
       "0                            i didnt feel humiliated      0\n",
       "1  i can go from feeling so hopeless to so damned...      0\n",
       "2   im grabbing a minute to post i feel greedy wrong      3\n",
       "3  i am ever feeling nostalgic about the fireplac...      2\n",
       "4                               i am feeling grouchy      3"
      ]
     },
     "execution_count": 17,
     "metadata": {},
     "output_type": "execute_result"
    }
   ],
   "source": [
    "df.head()"
   ]
  },
  {
   "cell_type": "code",
   "execution_count": 23,
   "id": "83f4fdc0-370b-4842-82de-66f8a97070d1",
   "metadata": {
    "execution": {
     "iopub.execute_input": "2022-04-14T20:12:44.760370Z",
     "iopub.status.busy": "2022-04-14T20:12:44.760370Z",
     "iopub.status.idle": "2022-04-14T20:12:44.769346Z",
     "shell.execute_reply": "2022-04-14T20:12:44.769346Z",
     "shell.execute_reply.started": "2022-04-14T20:12:44.760370Z"
    },
    "tags": []
   },
   "outputs": [],
   "source": [
    "def label_int2str(row):\n",
    "    return emotions['train'].features['label'].int2str(row)"
   ]
  },
  {
   "cell_type": "code",
   "execution_count": 24,
   "id": "89d6d9b7-51d1-477a-b65e-d46a5c512d4f",
   "metadata": {
    "execution": {
     "iopub.execute_input": "2022-04-14T20:13:05.444958Z",
     "iopub.status.busy": "2022-04-14T20:13:05.444958Z",
     "iopub.status.idle": "2022-04-14T20:13:05.476873Z",
     "shell.execute_reply": "2022-04-14T20:13:05.476873Z",
     "shell.execute_reply.started": "2022-04-14T20:13:05.444958Z"
    }
   },
   "outputs": [],
   "source": [
    "df['label_name'] = df['label'].apply(label_int2str)"
   ]
  },
  {
   "cell_type": "code",
   "execution_count": 25,
   "id": "5bdfdd51-d98c-4a32-b4a4-7ca2c2fc4b72",
   "metadata": {
    "execution": {
     "iopub.execute_input": "2022-04-14T20:13:07.983858Z",
     "iopub.status.busy": "2022-04-14T20:13:07.983858Z",
     "iopub.status.idle": "2022-04-14T20:13:07.994829Z",
     "shell.execute_reply": "2022-04-14T20:13:07.994829Z",
     "shell.execute_reply.started": "2022-04-14T20:13:07.983858Z"
    }
   },
   "outputs": [
    {
     "data": {
      "text/html": [
       "<div>\n",
       "<style scoped>\n",
       "    .dataframe tbody tr th:only-of-type {\n",
       "        vertical-align: middle;\n",
       "    }\n",
       "\n",
       "    .dataframe tbody tr th {\n",
       "        vertical-align: top;\n",
       "    }\n",
       "\n",
       "    .dataframe thead th {\n",
       "        text-align: right;\n",
       "    }\n",
       "</style>\n",
       "<table border=\"1\" class=\"dataframe\">\n",
       "  <thead>\n",
       "    <tr style=\"text-align: right;\">\n",
       "      <th></th>\n",
       "      <th>text</th>\n",
       "      <th>label</th>\n",
       "      <th>label_name</th>\n",
       "    </tr>\n",
       "  </thead>\n",
       "  <tbody>\n",
       "    <tr>\n",
       "      <th>0</th>\n",
       "      <td>i didnt feel humiliated</td>\n",
       "      <td>0</td>\n",
       "      <td>sadness</td>\n",
       "    </tr>\n",
       "    <tr>\n",
       "      <th>1</th>\n",
       "      <td>i can go from feeling so hopeless to so damned...</td>\n",
       "      <td>0</td>\n",
       "      <td>sadness</td>\n",
       "    </tr>\n",
       "    <tr>\n",
       "      <th>2</th>\n",
       "      <td>im grabbing a minute to post i feel greedy wrong</td>\n",
       "      <td>3</td>\n",
       "      <td>anger</td>\n",
       "    </tr>\n",
       "    <tr>\n",
       "      <th>3</th>\n",
       "      <td>i am ever feeling nostalgic about the fireplac...</td>\n",
       "      <td>2</td>\n",
       "      <td>love</td>\n",
       "    </tr>\n",
       "    <tr>\n",
       "      <th>4</th>\n",
       "      <td>i am feeling grouchy</td>\n",
       "      <td>3</td>\n",
       "      <td>anger</td>\n",
       "    </tr>\n",
       "  </tbody>\n",
       "</table>\n",
       "</div>"
      ],
      "text/plain": [
       "                                                text  label label_name\n",
       "0                            i didnt feel humiliated      0    sadness\n",
       "1  i can go from feeling so hopeless to so damned...      0    sadness\n",
       "2   im grabbing a minute to post i feel greedy wrong      3      anger\n",
       "3  i am ever feeling nostalgic about the fireplac...      2       love\n",
       "4                               i am feeling grouchy      3      anger"
      ]
     },
     "execution_count": 25,
     "metadata": {},
     "output_type": "execute_result"
    }
   ],
   "source": [
    "df.head()"
   ]
  },
  {
   "cell_type": "markdown",
   "id": "2ef792f2-8790-448c-b5be-7a35c3606cc5",
   "metadata": {},
   "source": [
    "### Looking at class distributions\n",
    "Whenever you are working on text classification problems, it is a good idea to examine the distribution of examples across the classes. A dataset with a skewed class distribution might require different treatment in terms of the training loss and evaluation metrics than a balances one. "
   ]
  },
  {
   "cell_type": "code",
   "execution_count": 26,
   "id": "fa3eaab7-e8d4-4d58-b7a3-7bb29b352cb2",
   "metadata": {
    "execution": {
     "iopub.execute_input": "2022-04-14T20:16:29.738961Z",
     "iopub.status.busy": "2022-04-14T20:16:29.738961Z",
     "iopub.status.idle": "2022-04-14T20:16:30.022733Z",
     "shell.execute_reply": "2022-04-14T20:16:30.022733Z",
     "shell.execute_reply.started": "2022-04-14T20:16:29.738961Z"
    }
   },
   "outputs": [],
   "source": [
    "import matplotlib.pyplot as plt"
   ]
  },
  {
   "cell_type": "code",
   "execution_count": 32,
   "id": "85880567-aadd-40b8-a62f-c7e6a1feeb02",
   "metadata": {
    "execution": {
     "iopub.execute_input": "2022-04-14T20:17:17.225994Z",
     "iopub.status.busy": "2022-04-14T20:17:17.224997Z",
     "iopub.status.idle": "2022-04-14T20:17:17.308644Z",
     "shell.execute_reply": "2022-04-14T20:17:17.308644Z",
     "shell.execute_reply.started": "2022-04-14T20:17:17.225994Z"
    },
    "tags": []
   },
   "outputs": [
    {
     "data": {
      "image/png": "[encoded data removed]",
      "text/plain": [
       "<Figure size 432x288 with 1 Axes>"
      ]
     },
     "metadata": {
      "needs_background": "light"
     },
     "output_type": "display_data"
    }
   ],
   "source": [
    "df['label_name'].value_counts(ascending=True).plot.barh()\n",
    "plt.title('Frequency of Classes')\n",
    "plt.show()"
   ]
  },
  {
   "cell_type": "markdown",
   "id": "4fbea04e-c0b0-4d9f-8ced-d5a3d4ff9ebd",
   "metadata": {},
   "source": [
    "There are several ways to deal with imbalanced data, including:\n",
    "* Randomly oversampling the minority class\n",
    "* Randomly undersampling the majority class\n",
    "* Gather more labeled data from the underrepressented classes."
   ]
  },
  {
   "cell_type": "markdown",
   "id": "829610a1-724b-479e-961f-5e8de7f91709",
   "metadata": {},
   "source": [
    "### How Long Are Our Tweets?\n",
    "Transformer models have a maximum input sequence length that is referred to as the maximum context size. For applications using DistilBERT, the maximum context size is 512 tokens, which amounts to a few paragraphs of text. "
   ]
  },
  {
   "cell_type": "code",
   "execution_count": 38,
   "id": "ae0fa568-722a-445f-af0b-78f0cae8d171",
   "metadata": {
    "execution": {
     "iopub.execute_input": "2022-04-14T20:22:58.837094Z",
     "iopub.status.busy": "2022-04-14T20:22:58.837094Z",
     "iopub.status.idle": "2022-04-14T20:22:58.977748Z",
     "shell.execute_reply": "2022-04-14T20:22:58.977748Z",
     "shell.execute_reply.started": "2022-04-14T20:22:58.837094Z"
    },
    "tags": []
   },
   "outputs": [
    {
     "data": {
      "image/png": "[encoded data removed]",
      "text/plain": [
       "<Figure size 432x288 with 1 Axes>"
      ]
     },
     "metadata": {
      "needs_background": "light"
     },
     "output_type": "display_data"
    }
   ],
   "source": [
    "df['Words Per Tweet'] = df['text'].str.split().apply(len)\n",
    "df.boxplot('Words Per Tweet', by='label_name', grid=False, showfliers=False, color='black')\n",
    "plt.suptitle('')\n",
    "plt.xlabel('')\n",
    "plt.show()"
   ]
  },
  {
   "cell_type": "code",
   "execution_count": 39,
   "id": "1ebad4e5-9305-4592-8581-af4040b074ea",
   "metadata": {
    "execution": {
     "iopub.execute_input": "2022-04-14T20:23:57.700142Z",
     "iopub.status.busy": "2022-04-14T20:23:57.700142Z",
     "iopub.status.idle": "2022-04-14T20:23:57.716099Z",
     "shell.execute_reply": "2022-04-14T20:23:57.716099Z",
     "shell.execute_reply.started": "2022-04-14T20:23:57.700142Z"
    }
   },
   "outputs": [],
   "source": [
    "emotions.reset_format()"
   ]
  },
  {
   "cell_type": "markdown",
   "id": "081accef-128e-4f48-a443-0d9c504db78b",
   "metadata": {},
   "source": [
    "### Character Tokenization\n",
    "The simplest tokenization scheme is to feed each character individually to the model. In Python, str objects are really arrays under the hood, which allows us to quickly implement character-level tokenization with just one line of code."
   ]
  },
  {
   "cell_type": "code",
   "execution_count": 43,
   "id": "88fdf76d-fa84-4d60-9c3d-bb45bdd02af8",
   "metadata": {
    "execution": {
     "iopub.execute_input": "2022-04-14T20:26:20.794519Z",
     "iopub.status.busy": "2022-04-14T20:26:20.794519Z",
     "iopub.status.idle": "2022-04-14T20:26:20.801500Z",
     "shell.execute_reply": "2022-04-14T20:26:20.801500Z",
     "shell.execute_reply.started": "2022-04-14T20:26:20.794519Z"
    },
    "tags": []
   },
   "outputs": [
    {
     "name": "stdout",
     "output_type": "stream",
     "text": [
      "['T', 'o', 'k', 'e', 'n', 'i', 'z', 'i', 'n', 'g', ' ', 't', 'e', 'x', 't', ' ', 'i', 's', ' ', 'a', ' ', 'c', 'o', 'r', 'e', ' ', 't', 'a', 's', 'k', ' ', 'o', 'f', ' ', 'N', 'L', 'P', '.']\n"
     ]
    }
   ],
   "source": [
    "text = 'Tokenizing text is a core task of NLP.'\n",
    "tokenized_text = list(text)\n",
    "print(tokenized_text)"
   ]
  },
  {
   "cell_type": "code",
   "execution_count": 44,
   "id": "9f4ca50d-3a97-4db7-9a70-8fec74b50512",
   "metadata": {
    "execution": {
     "iopub.execute_input": "2022-04-14T20:27:21.140046Z",
     "iopub.status.busy": "2022-04-14T20:27:21.140046Z",
     "iopub.status.idle": "2022-04-14T20:27:21.152014Z",
     "shell.execute_reply": "2022-04-14T20:27:21.152014Z",
     "shell.execute_reply.started": "2022-04-14T20:27:21.140046Z"
    }
   },
   "outputs": [],
   "source": [
    "token2idx = {ch: idx for idx, ch in enumerate(sorted(set(tokenized_text)))}"
   ]
  },
  {
   "cell_type": "code",
   "execution_count": 45,
   "id": "cde05f6d-1094-4fa2-9ac3-dde9390a9c21",
   "metadata": {
    "execution": {
     "iopub.execute_input": "2022-04-14T20:27:26.386035Z",
     "iopub.status.busy": "2022-04-14T20:27:26.386035Z",
     "iopub.status.idle": "2022-04-14T20:27:26.396008Z",
     "shell.execute_reply": "2022-04-14T20:27:26.396008Z",
     "shell.execute_reply.started": "2022-04-14T20:27:26.386035Z"
    }
   },
   "outputs": [
    {
     "data": {
      "text/plain": [
       "{' ': 0,\n",
       " '.': 1,\n",
       " 'L': 2,\n",
       " 'N': 3,\n",
       " 'P': 4,\n",
       " 'T': 5,\n",
       " 'a': 6,\n",
       " 'c': 7,\n",
       " 'e': 8,\n",
       " 'f': 9,\n",
       " 'g': 10,\n",
       " 'i': 11,\n",
       " 'k': 12,\n",
       " 'n': 13,\n",
       " 'o': 14,\n",
       " 'r': 15,\n",
       " 's': 16,\n",
       " 't': 17,\n",
       " 'x': 18,\n",
       " 'z': 19}"
      ]
     },
     "execution_count": 45,
     "metadata": {},
     "output_type": "execute_result"
    }
   ],
   "source": [
    "token2idx"
   ]
  },
  {
   "cell_type": "code",
   "execution_count": 47,
   "id": "813e49e5-84cd-4489-9f4b-e4cda4742788",
   "metadata": {
    "execution": {
     "iopub.execute_input": "2022-04-14T20:28:16.034623Z",
     "iopub.status.busy": "2022-04-14T20:28:16.034623Z",
     "iopub.status.idle": "2022-04-14T20:28:16.047587Z",
     "shell.execute_reply": "2022-04-14T20:28:16.047587Z",
     "shell.execute_reply.started": "2022-04-14T20:28:16.034623Z"
    },
    "tags": []
   },
   "outputs": [
    {
     "name": "stdout",
     "output_type": "stream",
     "text": [
      "[5, 14, 12, 8, 13, 11, 19, 11, 13, 10, 0, 17, 8, 18, 17, 0, 11, 16, 0, 6, 0, 7, 14, 15, 8, 0, 17, 6, 16, 12, 0, 14, 9, 0, 3, 2, 4, 1]\n"
     ]
    }
   ],
   "source": [
    "input_ids = [token2idx[token] for token in tokenized_text]\n",
    "print(input_ids)"
   ]
  },
  {
   "cell_type": "code",
   "execution_count": 48,
   "id": "79f54a29-2d77-4b28-93be-e59679e3e1d3",
   "metadata": {
    "execution": {
     "iopub.execute_input": "2022-04-14T20:30:46.272803Z",
     "iopub.status.busy": "2022-04-14T20:30:46.271806Z",
     "iopub.status.idle": "2022-04-14T20:30:46.287763Z",
     "shell.execute_reply": "2022-04-14T20:30:46.287763Z",
     "shell.execute_reply.started": "2022-04-14T20:30:46.272803Z"
    }
   },
   "outputs": [
    {
     "data": {
      "text/html": [
       "<div>\n",
       "<style scoped>\n",
       "    .dataframe tbody tr th:only-of-type {\n",
       "        vertical-align: middle;\n",
       "    }\n",
       "\n",
       "    .dataframe tbody tr th {\n",
       "        vertical-align: top;\n",
       "    }\n",
       "\n",
       "    .dataframe thead th {\n",
       "        text-align: right;\n",
       "    }\n",
       "</style>\n",
       "<table border=\"1\" class=\"dataframe\">\n",
       "  <thead>\n",
       "    <tr style=\"text-align: right;\">\n",
       "      <th></th>\n",
       "      <th>Name</th>\n",
       "      <th>Label ID</th>\n",
       "    </tr>\n",
       "  </thead>\n",
       "  <tbody>\n",
       "    <tr>\n",
       "      <th>0</th>\n",
       "      <td>Bumblebee</td>\n",
       "      <td>0</td>\n",
       "    </tr>\n",
       "    <tr>\n",
       "      <th>1</th>\n",
       "      <td>Optimus Prime</td>\n",
       "      <td>1</td>\n",
       "    </tr>\n",
       "    <tr>\n",
       "      <th>2</th>\n",
       "      <td>Megatron</td>\n",
       "      <td>2</td>\n",
       "    </tr>\n",
       "  </tbody>\n",
       "</table>\n",
       "</div>"
      ],
      "text/plain": [
       "            Name  Label ID\n",
       "0      Bumblebee         0\n",
       "1  Optimus Prime         1\n",
       "2       Megatron         2"
      ]
     },
     "execution_count": 48,
     "metadata": {},
     "output_type": "execute_result"
    }
   ],
   "source": [
    "categorical_df = pd.DataFrame(\n",
    "    {'Name': ['Bumblebee', 'Optimus Prime', 'Megatron'],\n",
    "     'Label ID': [0, 1, 2]}\n",
    ")\n",
    "categorical_df"
   ]
  },
  {
   "cell_type": "markdown",
   "id": "02ba4b9e-7e1a-4ae5-a17d-6cd22dda67ab",
   "metadata": {},
   "source": [
    "The problem with this approach is that it creates a fictittious ordering between the name, and neural networks are really good at learning these kind of relationships. So instead, we can create a new column for each category and assign a 1 where the category is true, and 0 otherwise. "
   ]
  },
  {
   "cell_type": "code",
   "execution_count": 49,
   "id": "3e714a1e-9088-4bf2-91b5-0dae9188f250",
   "metadata": {
    "execution": {
     "iopub.execute_input": "2022-04-14T20:31:53.444395Z",
     "iopub.status.busy": "2022-04-14T20:31:53.443398Z",
     "iopub.status.idle": "2022-04-14T20:31:53.464343Z",
     "shell.execute_reply": "2022-04-14T20:31:53.464343Z",
     "shell.execute_reply.started": "2022-04-14T20:31:53.444395Z"
    }
   },
   "outputs": [
    {
     "data": {
      "text/html": [
       "<div>\n",
       "<style scoped>\n",
       "    .dataframe tbody tr th:only-of-type {\n",
       "        vertical-align: middle;\n",
       "    }\n",
       "\n",
       "    .dataframe tbody tr th {\n",
       "        vertical-align: top;\n",
       "    }\n",
       "\n",
       "    .dataframe thead th {\n",
       "        text-align: right;\n",
       "    }\n",
       "</style>\n",
       "<table border=\"1\" class=\"dataframe\">\n",
       "  <thead>\n",
       "    <tr style=\"text-align: right;\">\n",
       "      <th></th>\n",
       "      <th>Bumblebee</th>\n",
       "      <th>Megatron</th>\n",
       "      <th>Optimus Prime</th>\n",
       "    </tr>\n",
       "  </thead>\n",
       "  <tbody>\n",
       "    <tr>\n",
       "      <th>0</th>\n",
       "      <td>1</td>\n",
       "      <td>0</td>\n",
       "      <td>0</td>\n",
       "    </tr>\n",
       "    <tr>\n",
       "      <th>1</th>\n",
       "      <td>0</td>\n",
       "      <td>0</td>\n",
       "      <td>1</td>\n",
       "    </tr>\n",
       "    <tr>\n",
       "      <th>2</th>\n",
       "      <td>0</td>\n",
       "      <td>1</td>\n",
       "      <td>0</td>\n",
       "    </tr>\n",
       "  </tbody>\n",
       "</table>\n",
       "</div>"
      ],
      "text/plain": [
       "   Bumblebee  Megatron  Optimus Prime\n",
       "0          1         0              0\n",
       "1          0         0              1\n",
       "2          0         1              0"
      ]
     },
     "execution_count": 49,
     "metadata": {},
     "output_type": "execute_result"
    }
   ],
   "source": [
    "pd.get_dummies(categorical_df['Name'])"
   ]
  },
  {
   "cell_type": "markdown",
   "id": "85fee6c4-91a1-4af8-b18d-c7432f193790",
   "metadata": {},
   "source": [
    "The rows of this DataFrame are the one-hot vectors, which have a single 'hot' entry with a 1 and 0s everywhere else. Now, looking at our input_ids, we have a similar problem: the elements create an ordinal scale. This means that adding or subtracting two IDs is a meaningless operation, since the result is a new ID that represents another random token. \n",
    "\n",
    "On the other hand, the result of adding two one-hot encodings can easily be iterpreted: the two entries that are 'hot' indicate that the corresponding tokens co-occur. We can create the one-hot encoding in PyTorch by converting input_ids to a tensor and applying one_hot() function."
   ]
  },
  {
   "cell_type": "code",
   "execution_count": 50,
   "id": "a8f42dc8-3942-4dc8-a763-fe4a15abaa4c",
   "metadata": {
    "execution": {
     "iopub.execute_input": "2022-04-14T20:35:30.714721Z",
     "iopub.status.busy": "2022-04-14T20:35:30.713723Z",
     "iopub.status.idle": "2022-04-14T20:35:30.726231Z",
     "shell.execute_reply": "2022-04-14T20:35:30.726231Z",
     "shell.execute_reply.started": "2022-04-14T20:35:30.714721Z"
    }
   },
   "outputs": [],
   "source": [
    "import torch\n",
    "import torch.nn.functional as F"
   ]
  },
  {
   "cell_type": "code",
   "execution_count": 51,
   "id": "06577fdd-e0ab-49b2-8515-19b6a66cf5fd",
   "metadata": {
    "execution": {
     "iopub.execute_input": "2022-04-14T20:36:02.782993Z",
     "iopub.status.busy": "2022-04-14T20:36:02.782993Z",
     "iopub.status.idle": "2022-04-14T20:36:02.788976Z",
     "shell.execute_reply": "2022-04-14T20:36:02.788976Z",
     "shell.execute_reply.started": "2022-04-14T20:36:02.782993Z"
    }
   },
   "outputs": [
    {
     "data": {
      "text/plain": [
       "torch.Size([38])"
      ]
     },
     "execution_count": 51,
     "metadata": {},
     "output_type": "execute_result"
    }
   ],
   "source": [
    "input_ids = torch.tensor(input_ids)\n",
    "input_ids.shape"
   ]
  },
  {
   "cell_type": "code",
   "execution_count": 52,
   "id": "1116fb82-fa5d-441e-a9c0-23d06fe2b028",
   "metadata": {
    "execution": {
     "iopub.execute_input": "2022-04-14T20:36:32.499807Z",
     "iopub.status.busy": "2022-04-14T20:36:32.499807Z",
     "iopub.status.idle": "2022-04-14T20:36:32.523742Z",
     "shell.execute_reply": "2022-04-14T20:36:32.523742Z",
     "shell.execute_reply.started": "2022-04-14T20:36:32.499807Z"
    }
   },
   "outputs": [],
   "source": [
    "one_hot_encodings = F.one_hot(input_ids, num_classes=len(token2idx))"
   ]
  },
  {
   "cell_type": "code",
   "execution_count": 54,
   "id": "cba72bb6-0b29-4d44-96f7-8f2c38a8080b",
   "metadata": {
    "execution": {
     "iopub.execute_input": "2022-04-14T20:36:44.756261Z",
     "iopub.status.busy": "2022-04-14T20:36:44.756261Z",
     "iopub.status.idle": "2022-04-14T20:36:44.774213Z",
     "shell.execute_reply": "2022-04-14T20:36:44.774213Z",
     "shell.execute_reply.started": "2022-04-14T20:36:44.756261Z"
    },
    "tags": []
   },
   "outputs": [
    {
     "data": {
      "text/plain": [
       "(tensor([[0, 0, 0, 0, 0, 1, 0, 0, 0, 0, 0, 0, 0, 0, 0, 0, 0, 0, 0, 0],\n",
       "         [0, 0, 0, 0, 0, 0, 0, 0, 0, 0, 0, 0, 0, 0, 1, 0, 0, 0, 0, 0],\n",
       "         [0, 0, 0, 0, 0, 0, 0, 0, 0, 0, 0, 0, 1, 0, 0, 0, 0, 0, 0, 0],\n",
       "         [0, 0, 0, 0, 0, 0, 0, 0, 1, 0, 0, 0, 0, 0, 0, 0, 0, 0, 0, 0],\n",
       "         [0, 0, 0, 0, 0, 0, 0, 0, 0, 0, 0, 0, 0, 1, 0, 0, 0, 0, 0, 0],\n",
       "         [0, 0, 0, 0, 0, 0, 0, 0, 0, 0, 0, 1, 0, 0, 0, 0, 0, 0, 0, 0],\n",
       "         [0, 0, 0, 0, 0, 0, 0, 0, 0, 0, 0, 0, 0, 0, 0, 0, 0, 0, 0, 1],\n",
       "         [0, 0, 0, 0, 0, 0, 0, 0, 0, 0, 0, 1, 0, 0, 0, 0, 0, 0, 0, 0],\n",
       "         [0, 0, 0, 0, 0, 0, 0, 0, 0, 0, 0, 0, 0, 1, 0, 0, 0, 0, 0, 0],\n",
       "         [0, 0, 0, 0, 0, 0, 0, 0, 0, 0, 1, 0, 0, 0, 0, 0, 0, 0, 0, 0],\n",
       "         [1, 0, 0, 0, 0, 0, 0, 0, 0, 0, 0, 0, 0, 0, 0, 0, 0, 0, 0, 0],\n",
       "         [0, 0, 0, 0, 0, 0, 0, 0, 0, 0, 0, 0, 0, 0, 0, 0, 0, 1, 0, 0],\n",
       "         [0, 0, 0, 0, 0, 0, 0, 0, 1, 0, 0, 0, 0, 0, 0, 0, 0, 0, 0, 0],\n",
       "         [0, 0, 0, 0, 0, 0, 0, 0, 0, 0, 0, 0, 0, 0, 0, 0, 0, 0, 1, 0],\n",
       "         [0, 0, 0, 0, 0, 0, 0, 0, 0, 0, 0, 0, 0, 0, 0, 0, 0, 1, 0, 0],\n",
       "         [1, 0, 0, 0, 0, 0, 0, 0, 0, 0, 0, 0, 0, 0, 0, 0, 0, 0, 0, 0],\n",
       "         [0, 0, 0, 0, 0, 0, 0, 0, 0, 0, 0, 1, 0, 0, 0, 0, 0, 0, 0, 0],\n",
       "         [0, 0, 0, 0, 0, 0, 0, 0, 0, 0, 0, 0, 0, 0, 0, 0, 1, 0, 0, 0],\n",
       "         [1, 0, 0, 0, 0, 0, 0, 0, 0, 0, 0, 0, 0, 0, 0, 0, 0, 0, 0, 0],\n",
       "         [0, 0, 0, 0, 0, 0, 1, 0, 0, 0, 0, 0, 0, 0, 0, 0, 0, 0, 0, 0],\n",
       "         [1, 0, 0, 0, 0, 0, 0, 0, 0, 0, 0, 0, 0, 0, 0, 0, 0, 0, 0, 0],\n",
       "         [0, 0, 0, 0, 0, 0, 0, 1, 0, 0, 0, 0, 0, 0, 0, 0, 0, 0, 0, 0],\n",
       "         [0, 0, 0, 0, 0, 0, 0, 0, 0, 0, 0, 0, 0, 0, 1, 0, 0, 0, 0, 0],\n",
       "         [0, 0, 0, 0, 0, 0, 0, 0, 0, 0, 0, 0, 0, 0, 0, 1, 0, 0, 0, 0],\n",
       "         [0, 0, 0, 0, 0, 0, 0, 0, 1, 0, 0, 0, 0, 0, 0, 0, 0, 0, 0, 0],\n",
       "         [1, 0, 0, 0, 0, 0, 0, 0, 0, 0, 0, 0, 0, 0, 0, 0, 0, 0, 0, 0],\n",
       "         [0, 0, 0, 0, 0, 0, 0, 0, 0, 0, 0, 0, 0, 0, 0, 0, 0, 1, 0, 0],\n",
       "         [0, 0, 0, 0, 0, 0, 1, 0, 0, 0, 0, 0, 0, 0, 0, 0, 0, 0, 0, 0],\n",
       "         [0, 0, 0, 0, 0, 0, 0, 0, 0, 0, 0, 0, 0, 0, 0, 0, 1, 0, 0, 0],\n",
       "         [0, 0, 0, 0, 0, 0, 0, 0, 0, 0, 0, 0, 1, 0, 0, 0, 0, 0, 0, 0],\n",
       "         [1, 0, 0, 0, 0, 0, 0, 0, 0, 0, 0, 0, 0, 0, 0, 0, 0, 0, 0, 0],\n",
       "         [0, 0, 0, 0, 0, 0, 0, 0, 0, 0, 0, 0, 0, 0, 1, 0, 0, 0, 0, 0],\n",
       "         [0, 0, 0, 0, 0, 0, 0, 0, 0, 1, 0, 0, 0, 0, 0, 0, 0, 0, 0, 0],\n",
       "         [1, 0, 0, 0, 0, 0, 0, 0, 0, 0, 0, 0, 0, 0, 0, 0, 0, 0, 0, 0],\n",
       "         [0, 0, 0, 1, 0, 0, 0, 0, 0, 0, 0, 0, 0, 0, 0, 0, 0, 0, 0, 0],\n",
       "         [0, 0, 1, 0, 0, 0, 0, 0, 0, 0, 0, 0, 0, 0, 0, 0, 0, 0, 0, 0],\n",
       "         [0, 0, 0, 0, 1, 0, 0, 0, 0, 0, 0, 0, 0, 0, 0, 0, 0, 0, 0, 0],\n",
       "         [0, 1, 0, 0, 0, 0, 0, 0, 0, 0, 0, 0, 0, 0, 0, 0, 0, 0, 0, 0]]),\n",
       " torch.Size([38, 20]))"
      ]
     },
     "execution_count": 54,
     "metadata": {},
     "output_type": "execute_result"
    }
   ],
   "source": [
    "one_hot_encodings, one_hot_encodings.shape"
   ]
  },
  {
   "cell_type": "markdown",
   "id": "283d8e0a-17cb-46ba-9173-68ea5124c1de",
   "metadata": {},
   "source": [
    "### Word Tokenization\n",
    "Instead of splitting the text into characters, we can split it into words and map each word to an integer. Using words from the outset enables the model to skip the step of learning words from characters, and thereby reducing the complexity of the training process.\n",
    "\n",
    "One simple class of word tokenizers uses whitespace to tokenize the text. We can do this by applying pythons split() function directly on the raw text"
   ]
  },
  {
   "cell_type": "code",
   "execution_count": 56,
   "id": "4fd5bc53-4e0a-416f-9f0e-3325ae011380",
   "metadata": {
    "execution": {
     "iopub.execute_input": "2022-04-14T20:40:13.385485Z",
     "iopub.status.busy": "2022-04-14T20:40:13.385485Z",
     "iopub.status.idle": "2022-04-14T20:40:13.400447Z",
     "shell.execute_reply": "2022-04-14T20:40:13.400447Z",
     "shell.execute_reply.started": "2022-04-14T20:40:13.385485Z"
    },
    "tags": []
   },
   "outputs": [
    {
     "name": "stdout",
     "output_type": "stream",
     "text": [
      "['Tokenizing', 'text', 'is', 'a', 'core', 'task', 'of', 'NLP.']\n"
     ]
    }
   ],
   "source": [
    "tokenized_text = text.split()\n",
    "print(tokenized_text)"
   ]
  },
  {
   "cell_type": "markdown",
   "id": "2e93726f-8e3e-46d3-9f26-4fd54b8e896c",
   "metadata": {},
   "source": [
    "### Subword Tokenization\n",
    "The basic idea behind subword tokenization is to combine the best aspects of character and word tokenization. On the one hand, we want to split rare words into smaller units to allow the model to deal with complex words and mispellings. On the other hand, we want to keep frequent words as unique entities so that we can keep the length of our inputs to a manageable size. The main distinguishing feature of subword tokenization (as well as word tokenization) is that it is learned from the pretraining corpus using a mix of statistical rules and algorithms. \n",
    "\n",
    "There are several subword tokenization algorithms that are commonly used in NLP but lets start with WordPiece, which is used by the BERT and DistilBERT tokenizers. "
   ]
  },
  {
   "cell_type": "code",
   "execution_count": 57,
   "id": "8aacd951-8f7e-4f32-b2cd-c1c3a0d1d04a",
   "metadata": {
    "execution": {
     "iopub.execute_input": "2022-04-14T22:00:39.609513Z",
     "iopub.status.busy": "2022-04-14T22:00:39.609513Z",
     "iopub.status.idle": "2022-04-14T22:00:39.805182Z",
     "shell.execute_reply": "2022-04-14T22:00:39.805182Z",
     "shell.execute_reply.started": "2022-04-14T22:00:39.609513Z"
    }
   },
   "outputs": [],
   "source": [
    "from transformers import AutoTokenizer"
   ]
  },
  {
   "cell_type": "code",
   "execution_count": 58,
   "id": "138f4cf4-89f1-4ccd-b33f-4f5ebeb804f4",
   "metadata": {
    "execution": {
     "iopub.execute_input": "2022-04-14T22:01:11.368032Z",
     "iopub.status.busy": "2022-04-14T22:01:11.368032Z",
     "iopub.status.idle": "2022-04-14T22:01:13.304094Z",
     "shell.execute_reply": "2022-04-14T22:01:13.304094Z",
     "shell.execute_reply.started": "2022-04-14T22:01:11.368032Z"
    }
   },
   "outputs": [
    {
     "data": {
      "application/vnd.jupyter.widget-view+json": {
       "model_id": "acff1b4305a046629e0f9e08a139d90c",
       "version_major": 2,
       "version_minor": 0
      },
      "text/plain": [
       "Downloading:   0%|          | 0.00/28.0 [00:00<?, ?B/s]"
      ]
     },
     "metadata": {},
     "output_type": "display_data"
    },
    {
     "data": {
      "application/vnd.jupyter.widget-view+json": {
       "model_id": "d27a44cbc638432d89e52a2aced7007b",
       "version_major": 2,
       "version_minor": 0
      },
      "text/plain": [
       "Downloading:   0%|          | 0.00/483 [00:00<?, ?B/s]"
      ]
     },
     "metadata": {},
     "output_type": "display_data"
    },
    {
     "data": {
      "application/vnd.jupyter.widget-view+json": {
       "model_id": "c5f2ecb4d03c4a8082faf5d35eb58201",
       "version_major": 2,
       "version_minor": 0
      },
      "text/plain": [
       "Downloading:   0%|          | 0.00/226k [00:00<?, ?B/s]"
      ]
     },
     "metadata": {},
     "output_type": "display_data"
    },
    {
     "data": {
      "application/vnd.jupyter.widget-view+json": {
       "model_id": "0254a2858c744bbeab6776779446b96f",
       "version_major": 2,
       "version_minor": 0
      },
      "text/plain": [
       "Downloading:   0%|          | 0.00/455k [00:00<?, ?B/s]"
      ]
     },
     "metadata": {},
     "output_type": "display_data"
    }
   ],
   "source": [
    "model_ckpt = 'distilbert-base-uncased'\n",
    "tokenizer = AutoTokenizer.from_pretrained(model_ckpt)"
   ]
  },
  {
   "cell_type": "markdown",
   "id": "28b4e5f2-06ba-4427-901e-cae0b8c3b1ca",
   "metadata": {},
   "source": [
    "The AutoTokenizer class belongs to a larger set of 'auto' classes whose job is to automatically retrieve the model's configuration, pretrained weights, or vocabularly from the name of the checkpoint. This allows you to quickly switch between models, but if you wish to load the specific class manually you can do so as well."
   ]
  },
  {
   "cell_type": "code",
   "execution_count": 59,
   "id": "e9fb00ad-d865-41f2-87ec-b3ccc458ab9a",
   "metadata": {
    "execution": {
     "iopub.execute_input": "2022-04-14T22:03:03.377785Z",
     "iopub.status.busy": "2022-04-14T22:03:03.377785Z",
     "iopub.status.idle": "2022-04-14T22:03:03.386761Z",
     "shell.execute_reply": "2022-04-14T22:03:03.386761Z",
     "shell.execute_reply.started": "2022-04-14T22:03:03.377785Z"
    }
   },
   "outputs": [],
   "source": [
    "from transformers import DistilBertTokenizer"
   ]
  },
  {
   "cell_type": "code",
   "execution_count": 60,
   "id": "b34a99ab-1a31-4ade-8536-722093ceccbf",
   "metadata": {
    "execution": {
     "iopub.execute_input": "2022-04-14T22:03:20.140878Z",
     "iopub.status.busy": "2022-04-14T22:03:20.140878Z",
     "iopub.status.idle": "2022-04-14T22:03:20.962379Z",
     "shell.execute_reply": "2022-04-14T22:03:20.962379Z",
     "shell.execute_reply.started": "2022-04-14T22:03:20.140878Z"
    }
   },
   "outputs": [],
   "source": [
    "distilbert_tokenizer = DistilBertTokenizer.from_pretrained(model_ckpt)"
   ]
  },
  {
   "cell_type": "code",
   "execution_count": 61,
   "id": "535472f7-42f9-4e0f-be1b-9cb39c62023b",
   "metadata": {
    "execution": {
     "iopub.execute_input": "2022-04-14T22:04:03.871191Z",
     "iopub.status.busy": "2022-04-14T22:04:03.871191Z",
     "iopub.status.idle": "2022-04-14T22:04:03.881164Z",
     "shell.execute_reply": "2022-04-14T22:04:03.881164Z",
     "shell.execute_reply.started": "2022-04-14T22:04:03.871191Z"
    }
   },
   "outputs": [
    {
     "data": {
      "text/plain": [
       "{'input_ids': [101, 19204, 6026, 3793, 2003, 1037, 4563, 4708, 1997, 17953, 2361, 1012, 102], 'attention_mask': [1, 1, 1, 1, 1, 1, 1, 1, 1, 1, 1, 1, 1]}"
      ]
     },
     "execution_count": 61,
     "metadata": {},
     "output_type": "execute_result"
    }
   ],
   "source": [
    "encoded_text = tokenizer(text)\n",
    "encoded_text"
   ]
  },
  {
   "cell_type": "code",
   "execution_count": 62,
   "id": "ee25abc3-2d54-42a9-a4a2-622864e494fd",
   "metadata": {
    "execution": {
     "iopub.execute_input": "2022-04-14T22:04:56.450339Z",
     "iopub.status.busy": "2022-04-14T22:04:56.450339Z",
     "iopub.status.idle": "2022-04-14T22:04:56.462306Z",
     "shell.execute_reply": "2022-04-14T22:04:56.462306Z",
     "shell.execute_reply.started": "2022-04-14T22:04:56.450339Z"
    }
   },
   "outputs": [],
   "source": [
    "# converting back to tokens\n",
    "tokens = tokenizer.convert_ids_to_tokens(encoded_text['input_ids'])"
   ]
  },
  {
   "cell_type": "code",
   "execution_count": 64,
   "id": "6bf1d086-8e7a-4b78-9d6d-31455ff00780",
   "metadata": {
    "execution": {
     "iopub.execute_input": "2022-04-14T22:05:03.718208Z",
     "iopub.status.busy": "2022-04-14T22:05:03.718208Z",
     "iopub.status.idle": "2022-04-14T22:05:03.727184Z",
     "shell.execute_reply": "2022-04-14T22:05:03.727184Z",
     "shell.execute_reply.started": "2022-04-14T22:05:03.718208Z"
    },
    "tags": []
   },
   "outputs": [
    {
     "name": "stdout",
     "output_type": "stream",
     "text": [
      "['[CLS]', 'token', '##izing', 'text', 'is', 'a', 'core', 'task', 'of', 'nl', '##p', '.', '[SEP]']\n"
     ]
    }
   ],
   "source": [
    "print(tokens)"
   ]
  },
  {
   "cell_type": "code",
   "execution_count": 65,
   "id": "ed576eb5-e0a5-439b-8e74-ae0655cf1f51",
   "metadata": {
    "execution": {
     "iopub.execute_input": "2022-04-14T22:07:11.289442Z",
     "iopub.status.busy": "2022-04-14T22:07:11.289442Z",
     "iopub.status.idle": "2022-04-14T22:07:11.298416Z",
     "shell.execute_reply": "2022-04-14T22:07:11.298416Z",
     "shell.execute_reply.started": "2022-04-14T22:07:11.289442Z"
    }
   },
   "outputs": [
    {
     "name": "stdout",
     "output_type": "stream",
     "text": [
      "[CLS] tokenizing text is a core task of nlp. [SEP]\n"
     ]
    }
   ],
   "source": [
    "# converting the tokens back to string\n",
    "print(tokenizer.convert_tokens_to_string(tokens))"
   ]
  },
  {
   "cell_type": "code",
   "execution_count": 66,
   "id": "705ba1ac-6cf3-48c9-ad5b-302f8d65d85f",
   "metadata": {
    "execution": {
     "iopub.execute_input": "2022-04-14T22:08:22.940794Z",
     "iopub.status.busy": "2022-04-14T22:08:22.940794Z",
     "iopub.status.idle": "2022-04-14T22:08:22.944783Z",
     "shell.execute_reply": "2022-04-14T22:08:22.944783Z",
     "shell.execute_reply.started": "2022-04-14T22:08:22.940794Z"
    }
   },
   "outputs": [
    {
     "data": {
      "text/plain": [
       "(30522, 512, ['input_ids', 'attention_mask'])"
      ]
     },
     "execution_count": 66,
     "metadata": {},
     "output_type": "execute_result"
    }
   ],
   "source": [
    "tokenizer.vocab_size, tokenizer.model_max_length, tokenizer.model_input_names"
   ]
  },
  {
   "cell_type": "markdown",
   "id": "2b56d0ef-5eca-4287-b655-7cfdf6912d4e",
   "metadata": {},
   "source": [
    "### Tokenizing the Whole Dataset"
   ]
  },
  {
   "cell_type": "code",
   "execution_count": 68,
   "id": "af1f8951-21cb-49d3-bd05-cfa0d9a01f5d",
   "metadata": {
    "execution": {
     "iopub.execute_input": "2022-04-14T22:11:11.115253Z",
     "iopub.status.busy": "2022-04-14T22:11:11.115253Z",
     "iopub.status.idle": "2022-04-14T22:11:11.119241Z",
     "shell.execute_reply": "2022-04-14T22:11:11.119241Z",
     "shell.execute_reply.started": "2022-04-14T22:11:11.115253Z"
    },
    "tags": []
   },
   "outputs": [],
   "source": [
    "def tokenize(batch):\n",
    "    \"\"\"\n",
    "    This function applies the tokenizer to a batch of examples. Padding=True will pad the examples with zero to the size of the longest one in a batch, and truncation=True will truncate the examples to the model's maximum context size.\n",
    "    \"\"\"\n",
    "    return tokenizer(batch['text'], padding=True, truncation=True)"
   ]
  },
  {
   "cell_type": "code",
   "execution_count": 72,
   "id": "5bc3a469-4b4d-49e9-a4d0-b75bc6618763",
   "metadata": {
    "execution": {
     "iopub.execute_input": "2022-04-14T22:11:45.957806Z",
     "iopub.status.busy": "2022-04-14T22:11:45.957806Z",
     "iopub.status.idle": "2022-04-14T22:11:45.975758Z",
     "shell.execute_reply": "2022-04-14T22:11:45.975758Z",
     "shell.execute_reply.started": "2022-04-14T22:11:45.957806Z"
    },
    "tags": []
   },
   "outputs": [
    {
     "data": {
      "text/plain": [
       "{'input_ids': [[101, 1045, 2134, 2102, 2514, 26608, 102, 0, 0, 0, 0, 0, 0, 0, 0, 0, 0, 0, 0, 0, 0, 0, 0], [101, 1045, 2064, 2175, 2013, 3110, 2061, 20625, 2000, 2061, 9636, 17772, 2074, 2013, 2108, 2105, 2619, 2040, 14977, 1998, 2003, 8300, 102], [101, 10047, 9775, 1037, 3371, 2000, 2695, 1045, 2514, 20505, 3308, 102, 0, 0, 0, 0, 0, 0, 0, 0, 0, 0, 0]], 'attention_mask': [[1, 1, 1, 1, 1, 1, 1, 0, 0, 0, 0, 0, 0, 0, 0, 0, 0, 0, 0, 0, 0, 0, 0], [1, 1, 1, 1, 1, 1, 1, 1, 1, 1, 1, 1, 1, 1, 1, 1, 1, 1, 1, 1, 1, 1, 1], [1, 1, 1, 1, 1, 1, 1, 1, 1, 1, 1, 1, 0, 0, 0, 0, 0, 0, 0, 0, 0, 0, 0]]}"
      ]
     },
     "execution_count": 72,
     "metadata": {},
     "output_type": "execute_result"
    }
   ],
   "source": [
    "tokenize(emotions['train'][:3])"
   ]
  },
  {
   "cell_type": "code",
   "execution_count": 75,
   "id": "12624965-678b-4dbd-9977-493a0cce93a3",
   "metadata": {
    "execution": {
     "iopub.execute_input": "2022-04-14T22:49:25.164880Z",
     "iopub.status.busy": "2022-04-14T22:49:25.164880Z",
     "iopub.status.idle": "2022-04-14T22:49:26.025614Z",
     "shell.execute_reply": "2022-04-14T22:49:26.025614Z",
     "shell.execute_reply.started": "2022-04-14T22:49:25.164880Z"
    },
    "tags": []
   },
   "outputs": [
    {
     "data": {
      "application/vnd.jupyter.widget-view+json": {
       "model_id": "a71e565d45aa4bc2aaac564980a73b06",
       "version_major": 2,
       "version_minor": 0
      },
      "text/plain": [
       "  0%|          | 0/1 [00:00<?, ?ba/s]"
      ]
     },
     "metadata": {},
     "output_type": "display_data"
    },
    {
     "data": {
      "application/vnd.jupyter.widget-view+json": {
       "model_id": "384db739d3744fb6b81a7eb35624076a",
       "version_major": 2,
       "version_minor": 0
      },
      "text/plain": [
       "  0%|          | 0/1 [00:00<?, ?ba/s]"
      ]
     },
     "metadata": {},
     "output_type": "display_data"
    },
    {
     "data": {
      "application/vnd.jupyter.widget-view+json": {
       "model_id": "49129351cf1047d8a08bffeb7519b27d",
       "version_major": 2,
       "version_minor": 0
      },
      "text/plain": [
       "  0%|          | 0/1 [00:00<?, ?ba/s]"
      ]
     },
     "metadata": {},
     "output_type": "display_data"
    }
   ],
   "source": [
    "emotions_encoded = emotions.map(tokenize, batched=True, batch_size=None)"
   ]
  },
  {
   "cell_type": "code",
   "execution_count": 76,
   "id": "a35f2bb9-6143-406c-948e-72d5652991ea",
   "metadata": {
    "execution": {
     "iopub.execute_input": "2022-04-14T22:49:44.607412Z",
     "iopub.status.busy": "2022-04-14T22:49:44.606397Z",
     "iopub.status.idle": "2022-04-14T22:49:44.621357Z",
     "shell.execute_reply": "2022-04-14T22:49:44.621357Z",
     "shell.execute_reply.started": "2022-04-14T22:49:44.607412Z"
    }
   },
   "outputs": [
    {
     "data": {
      "text/plain": [
       "datasets.dataset_dict.DatasetDict"
      ]
     },
     "execution_count": 76,
     "metadata": {},
     "output_type": "execute_result"
    }
   ],
   "source": [
    "type(emotions)"
   ]
  },
  {
   "cell_type": "code",
   "execution_count": 78,
   "id": "028857f6-700d-4f85-aecf-53de5956150f",
   "metadata": {
    "execution": {
     "iopub.execute_input": "2022-04-14T22:50:14.661699Z",
     "iopub.status.busy": "2022-04-14T22:50:14.661699Z",
     "iopub.status.idle": "2022-04-14T22:50:14.668681Z",
     "shell.execute_reply": "2022-04-14T22:50:14.668681Z",
     "shell.execute_reply.started": "2022-04-14T22:50:14.661699Z"
    },
    "tags": []
   },
   "outputs": [
    {
     "data": {
      "text/plain": [
       "Dataset({\n",
       "    features: ['text', 'label', 'input_ids', 'attention_mask'],\n",
       "    num_rows: 16000\n",
       "})"
      ]
     },
     "execution_count": 78,
     "metadata": {},
     "output_type": "execute_result"
    }
   ],
   "source": [
    "emotions_encoded['train']"
   ]
  },
  {
   "cell_type": "markdown",
   "id": "a2110e7d-bc9f-47fe-9080-e6f47a54fef7",
   "metadata": {},
   "source": [
    "By default, the map() method operates individually on every example in the corpus, so setting batched=True will encode the tweets in batches. Because we've set batch_size=None, our tokenize() function will be applied on the full dataset as a single batch. This ensures that input tesnors and attention masks have the same shape globally, and we can see that this operation has added new input_ids and attention_masks to the dataset"
   ]
  },
  {
   "cell_type": "code",
   "execution_count": 79,
   "id": "e7adf33e-3127-46ee-baa7-78d40662e0ed",
   "metadata": {
    "execution": {
     "iopub.execute_input": "2022-04-14T22:52:18.434152Z",
     "iopub.status.busy": "2022-04-14T22:52:18.434152Z",
     "iopub.status.idle": "2022-04-14T22:52:18.445123Z",
     "shell.execute_reply": "2022-04-14T22:52:18.445123Z",
     "shell.execute_reply.started": "2022-04-14T22:52:18.434152Z"
    }
   },
   "outputs": [
    {
     "data": {
      "text/plain": [
       "Dataset({\n",
       "    features: ['text', 'label'],\n",
       "    num_rows: 16000\n",
       "})"
      ]
     },
     "execution_count": 79,
     "metadata": {},
     "output_type": "execute_result"
    }
   ],
   "source": [
    "emotions['train']"
   ]
  },
  {
   "cell_type": "markdown",
   "id": "69f4d858-944f-4049-9845-a43823a99ec4",
   "metadata": {},
   "source": [
    "We have two options to train such a model on our Twitter Dataset:\n",
    "\n",
    "**Feature Extraction**: We use the hidden states as features and just train a classifier on them, without modifying the pretrained model. \n",
    "\n",
    "**Fine-Tuning**: We train the whole model end-to-end, which also updates the parameters of the pretrained model. "
   ]
  },
  {
   "cell_type": "code",
   "execution_count": null,
   "id": "70de6fa9-2a6d-42f7-a73b-ee50dc4abb2a",
   "metadata": {},
   "outputs": [],
   "source": []
  },
  {
   "cell_type": "code",
   "execution_count": null,
   "id": "b488c0b7-87c8-40ab-8b8a-e505549afd00",
   "metadata": {},
   "outputs": [],
   "source": []
  },
  {
   "cell_type": "code",
   "execution_count": null,
   "id": "5b809452-3477-4c9b-be8c-02b20de956b1",
   "metadata": {},
   "outputs": [],
   "source": []
  },
  {
   "cell_type": "code",
   "execution_count": null,
   "id": "bad023be-a640-4262-9b45-d7ebb924fe6c",
   "metadata": {},
   "outputs": [],
   "source": []
  },
  {
   "cell_type": "code",
   "execution_count": null,
   "id": "96238013-1ec1-4204-81d0-6e7fc0a9f729",
   "metadata": {},
   "outputs": [],
   "source": []
  },
  {
   "cell_type": "code",
   "execution_count": null,
   "id": "092e1c6b-d242-4c51-a52d-91ab50bceeb8",
   "metadata": {},
   "outputs": [],
   "source": []
  },
  {
   "cell_type": "code",
   "execution_count": null,
   "id": "4d58ef3d-201c-438e-afdd-32422654e610",
   "metadata": {},
   "outputs": [],
   "source": []
  },
  {
   "cell_type": "code",
   "execution_count": null,
   "id": "397c07f0-749f-46d7-9c8d-f699bc304d87",
   "metadata": {},
   "outputs": [],
   "source": []
  },
  {
   "cell_type": "code",
   "execution_count": null,
   "id": "1385e2b8-7b83-43c1-a229-afa1b3904537",
   "metadata": {},
   "outputs": [],
   "source": []
  },
  {
   "cell_type": "code",
   "execution_count": null,
   "id": "b4ccfd4f-086b-492f-91c0-cd9632259ce6",
   "metadata": {},
   "outputs": [],
   "source": []
  },
  {
   "cell_type": "code",
   "execution_count": null,
   "id": "252e395f-5fd3-426e-92c7-d3c4e29e9328",
   "metadata": {},
   "outputs": [],
   "source": []
  },
  {
   "cell_type": "code",
   "execution_count": null,
   "id": "9cb81b74-f3aa-47a3-a35b-1a9f26f7d8eb",
   "metadata": {},
   "outputs": [],
   "source": []
  },
  {
   "cell_type": "code",
   "execution_count": null,
   "id": "707eb4ca-17c5-4853-987a-0ade8fe7a5f1",
   "metadata": {},
   "outputs": [],
   "source": []
  },
  {
   "cell_type": "code",
   "execution_count": null,
   "id": "50bb6a82-5597-4cb8-b499-a11fa1d8ec4a",
   "metadata": {},
   "outputs": [],
   "source": []
  },
  {
   "cell_type": "code",
   "execution_count": null,
   "id": "e37b2bfa-dc3e-4731-ba65-e24456490166",
   "metadata": {},
   "outputs": [],
   "source": []
  },
  {
   "cell_type": "code",
   "execution_count": null,
   "id": "a1b95007-c642-49c6-891f-486612682d91",
   "metadata": {},
   "outputs": [],
   "source": []
  },
  {
   "cell_type": "code",
   "execution_count": null,
   "id": "80b69524-fd97-477b-b3b6-8c07bb5d00b1",
   "metadata": {},
   "outputs": [],
   "source": []
  },
  {
   "cell_type": "code",
   "execution_count": null,
   "id": "0e3e61b7-b0a1-4aca-853a-095a3299e4a1",
   "metadata": {},
   "outputs": [],
   "source": []
  },
  {
   "cell_type": "code",
   "execution_count": null,
   "id": "0054fd9e-46aa-415b-a244-ab9462c1769a",
   "metadata": {},
   "outputs": [],
   "source": []
  }
 ],
 "metadata": {
  "kernelspec": {
   "display_name": "Python 3 (ipykernel)",
   "language": "python",
   "name": "python3"
  },
  "language_info": {
   "codemirror_mode": {
    "name": "ipython",
    "version": 3
   },
   "file_extension": ".py",
   "mimetype": "text/x-python",
   "name": "python",
   "nbconvert_exporter": "python",
   "pygments_lexer": "ipython3",
   "version": "3.9.7"
  }
 },
 "nbformat": 4,
 "nbformat_minor": 5
}
